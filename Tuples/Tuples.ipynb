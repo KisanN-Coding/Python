{
 "cells": [
  {
   "cell_type": "markdown",
   "id": "0dcb9d6b",
   "metadata": {},
   "source": [
    "## **Tuples**\n",
    "\n",
    "**A tuple is a collection of ordered, immutable (unchangeable) elements**\n",
    "\n",
    " * **Basic Properties :**\n",
    "\n",
    "   - Ordered \n",
    "\n",
    "   - Immutable  (you can't change items after creation)\n",
    "\n",
    "   - Allows duplicate values \n",
    "\n",
    "   - Elements can be of different data types \n",
    "\n",
    "   - Defined using parentheses ()\n",
    "\n",
    "\n",
    "\n"
   ]
  },
  {
   "cell_type": "markdown",
   "id": "c5c047a9",
   "metadata": {},
   "source": [
    "**When to Use Tuple ?**\n",
    "\n",
    "* When data should not be modified\n",
    "\n",
    "* For faster access than lists\n",
    "\n",
    "* As dictionary keys"
   ]
  },
  {
   "cell_type": "markdown",
   "id": "2a94272b",
   "metadata": {},
   "source": [
    "#### **Creating the tuple**"
   ]
  },
  {
   "cell_type": "markdown",
   "id": "40004274",
   "metadata": {},
   "source": [
    "**Empty Tuple**"
   ]
  },
  {
   "cell_type": "code",
   "execution_count": 1,
   "id": "ebf5315d",
   "metadata": {},
   "outputs": [
    {
     "name": "stdout",
     "output_type": "stream",
     "text": [
      "()\n"
     ]
    }
   ],
   "source": [
    "t = ()\n",
    "print(t)"
   ]
  },
  {
   "cell_type": "markdown",
   "id": "8decdc32",
   "metadata": {},
   "source": [
    "**Creating the tuple with single element**"
   ]
  },
  {
   "cell_type": "code",
   "execution_count": null,
   "id": "62173289",
   "metadata": {},
   "outputs": [
    {
     "name": "stdout",
     "output_type": "stream",
     "text": [
      "2\n",
      "<class 'int'>\n"
     ]
    }
   ],
   "source": [
    "# Normal way \n",
    "\n",
    "t1 = (2)\n",
    "print(t1)  # its giving only 2 not a tuple like this (2)\n",
    "\n",
    "print(type(t1))  # see its integer "
   ]
  },
  {
   "cell_type": "code",
   "execution_count": null,
   "id": "dcd0cead",
   "metadata": {},
   "outputs": [
    {
     "name": "stdout",
     "output_type": "stream",
     "text": [
      "(2,)\n",
      "<class 'tuple'>\n"
     ]
    }
   ],
   "source": [
    "# Creating the tuple with single element\n",
    "\n",
    "t1 = (2,) \n",
    "print(t1)\n",
    "\n",
    "print(type(t1))  # now it's tuple \n",
    "\n",
    "# So this is way or syntax to create the single element tuple"
   ]
  },
  {
   "cell_type": "markdown",
   "id": "c8094565",
   "metadata": {},
   "source": [
    "**Homogeneous Tuple**"
   ]
  },
  {
   "cell_type": "code",
   "execution_count": 7,
   "id": "41d83b0f",
   "metadata": {},
   "outputs": [
    {
     "name": "stdout",
     "output_type": "stream",
     "text": [
      "(1, 2, 3, 4, 5)\n"
     ]
    }
   ],
   "source": [
    "t2 = (1,2,3,4,5)\n",
    "\n",
    "print(t2)"
   ]
  },
  {
   "cell_type": "markdown",
   "id": "1698b77d",
   "metadata": {},
   "source": [
    "**Hetrogeneous Tuple**"
   ]
  },
  {
   "cell_type": "code",
   "execution_count": 9,
   "id": "a23e08c4",
   "metadata": {},
   "outputs": [
    {
     "name": "stdout",
     "output_type": "stream",
     "text": [
      "(1, 8.2, True, [1, 2, 3])\n"
     ]
    }
   ],
   "source": [
    "t3 = (1,8.2,True,[1,2,3])\n",
    "print(t3)"
   ]
  },
  {
   "cell_type": "markdown",
   "id": "41ebbf25",
   "metadata": {},
   "source": [
    "**2D Tuple**"
   ]
  },
  {
   "cell_type": "code",
   "execution_count": 11,
   "id": "dd96f3bb",
   "metadata": {},
   "outputs": [
    {
     "name": "stdout",
     "output_type": "stream",
     "text": [
      "(1, 2, 3, 4, (5, 6, 7))\n"
     ]
    }
   ],
   "source": [
    "t = (1,2,3,4,(5,6,7))\n",
    "print(t)"
   ]
  },
  {
   "cell_type": "markdown",
   "id": "6acbbf32",
   "metadata": {},
   "source": [
    "**Using type conversion**"
   ]
  },
  {
   "cell_type": "code",
   "execution_count": 13,
   "id": "36b53c05",
   "metadata": {},
   "outputs": [
    {
     "name": "stdout",
     "output_type": "stream",
     "text": [
      "('h', 'e', 'l', 'l', 'o')\n"
     ]
    }
   ],
   "source": [
    "t3 = tuple('hello')\n",
    "print(t3)"
   ]
  },
  {
   "cell_type": "markdown",
   "id": "54544e6f",
   "metadata": {},
   "source": [
    "#### **Accessing Items**\n",
    "\n",
    "- Indexing\n",
    "\n",
    "- Slicing"
   ]
  },
  {
   "cell_type": "code",
   "execution_count": null,
   "id": "9d95270d",
   "metadata": {},
   "outputs": [
    {
     "name": "stdout",
     "output_type": "stream",
     "text": [
      "3\n",
      "5\n"
     ]
    }
   ],
   "source": [
    "# Indexing \n",
    "\n",
    "t = (1,2,3,4,5,6)\n",
    "\n",
    "print(t[2]) # positive indexing \n",
    "\n",
    "print(t[-2]) # negative indexing"
   ]
  },
  {
   "cell_type": "code",
   "execution_count": 23,
   "id": "5f5cae13",
   "metadata": {},
   "outputs": [
    {
     "name": "stdout",
     "output_type": "stream",
     "text": [
      "(1, 2, 3, 4)\n"
     ]
    }
   ],
   "source": [
    "# Slicing \n",
    "\n",
    "t2 = (1,2,3,4,5,6)\n",
    "\n",
    "print(t2[0:4])  # +ve slicing"
   ]
  },
  {
   "cell_type": "code",
   "execution_count": 24,
   "id": "9c11d216",
   "metadata": {},
   "outputs": [
    {
     "name": "stdout",
     "output_type": "stream",
     "text": [
      "(1, 3)\n"
     ]
    }
   ],
   "source": [
    "print(t2[0:4:2])  # jumps "
   ]
  },
  {
   "cell_type": "code",
   "execution_count": 25,
   "id": "273b9908",
   "metadata": {},
   "outputs": [
    {
     "name": "stdout",
     "output_type": "stream",
     "text": [
      "(2, 3, 4, 5)\n"
     ]
    }
   ],
   "source": [
    "print(t2[-5:-1]) # -ve slicing"
   ]
  },
  {
   "cell_type": "code",
   "execution_count": 26,
   "id": "6f56dd9b",
   "metadata": {},
   "outputs": [
    {
     "name": "stdout",
     "output_type": "stream",
     "text": [
      "(6, 5, 4, 3, 2, 1)\n"
     ]
    }
   ],
   "source": [
    "# To reverse the tuple \n",
    "\n",
    "print(t2[::-1])"
   ]
  },
  {
   "cell_type": "code",
   "execution_count": 30,
   "id": "7dbe2681",
   "metadata": {},
   "outputs": [
    {
     "name": "stdout",
     "output_type": "stream",
     "text": [
      "5\n",
      "6\n"
     ]
    }
   ],
   "source": [
    "# For 2D Tuple \n",
    "\n",
    "t = (1,2,3,4,(5,6))\n",
    "\n",
    "print(t[-1][0])\n",
    "\n",
    "print(t[-1][1])"
   ]
  },
  {
   "cell_type": "markdown",
   "id": "e6132192",
   "metadata": {},
   "source": [
    "#### **Editing And Adding items**"
   ]
  },
  {
   "cell_type": "code",
   "execution_count": null,
   "id": "91193289",
   "metadata": {},
   "outputs": [],
   "source": [
    "# Tuples are immutable , so we can't modify them "
   ]
  },
  {
   "cell_type": "markdown",
   "id": "a613e914",
   "metadata": {},
   "source": [
    "#### **Deleting**\n",
    "\n",
    "**We can delete complete tuple , but can't delete the portion of tuple**"
   ]
  },
  {
   "cell_type": "code",
   "execution_count": 1,
   "id": "31e50158",
   "metadata": {},
   "outputs": [],
   "source": [
    "t = (1,2,3,4,(5,6))\n",
    "\n",
    "del t"
   ]
  },
  {
   "cell_type": "markdown",
   "id": "f58f36d2",
   "metadata": {},
   "source": [
    "#### **Operation on Tuples**\n",
    "\n",
    "**1. Arithmetic Operators  * , +**\n",
    "\n",
    "**2. Membership Operators**\n",
    "\n",
    "**3. Loops**"
   ]
  },
  {
   "cell_type": "markdown",
   "id": "cb3274db",
   "metadata": {},
   "source": [
    "**1. Arithmetic Operators  * , +**"
   ]
  },
  {
   "cell_type": "code",
   "execution_count": null,
   "id": "a29de1d4",
   "metadata": {},
   "outputs": [
    {
     "name": "stdout",
     "output_type": "stream",
     "text": [
      "(1, 2, 3, 4, 5, 6, 7, 8)\n"
     ]
    }
   ],
   "source": [
    "t1 = (1,2,3,4)\n",
    "t2 = (5,6,7,8)"
   ]
  },
  {
   "cell_type": "code",
   "execution_count": null,
   "id": "437340be",
   "metadata": {},
   "outputs": [],
   "source": [
    "# + operator\n",
    "print(t1 + t2)"
   ]
  },
  {
   "cell_type": "code",
   "execution_count": 15,
   "id": "0272b6b9",
   "metadata": {},
   "outputs": [
    {
     "name": "stdout",
     "output_type": "stream",
     "text": [
      "(1, 2, 3, 4, 1, 2, 3, 4)\n"
     ]
    }
   ],
   "source": [
    "# * operator\n",
    "\n",
    "print(t1 * 2)"
   ]
  },
  {
   "cell_type": "markdown",
   "id": "c5d534ee",
   "metadata": {},
   "source": [
    "**Membership Operators**"
   ]
  },
  {
   "cell_type": "code",
   "execution_count": 19,
   "id": "f5079afe",
   "metadata": {},
   "outputs": [
    {
     "data": {
      "text/plain": [
       "True"
      ]
     },
     "execution_count": 19,
     "metadata": {},
     "output_type": "execute_result"
    }
   ],
   "source": [
    "t1 = (1,2,3,4)\n",
    "\n",
    "1 in t1"
   ]
  },
  {
   "cell_type": "code",
   "execution_count": 18,
   "id": "98a28c0c",
   "metadata": {},
   "outputs": [
    {
     "data": {
      "text/plain": [
       "False"
      ]
     },
     "execution_count": 18,
     "metadata": {},
     "output_type": "execute_result"
    }
   ],
   "source": [
    "5 in t1"
   ]
  },
  {
   "cell_type": "code",
   "execution_count": 20,
   "id": "26ae795a",
   "metadata": {},
   "outputs": [
    {
     "data": {
      "text/plain": [
       "True"
      ]
     },
     "execution_count": 20,
     "metadata": {},
     "output_type": "execute_result"
    }
   ],
   "source": [
    "5 not in t1"
   ]
  },
  {
   "cell_type": "markdown",
   "id": "68da4b6e",
   "metadata": {},
   "source": [
    "**3. Loops**"
   ]
  },
  {
   "cell_type": "code",
   "execution_count": 21,
   "id": "97b6f9e6",
   "metadata": {},
   "outputs": [
    {
     "name": "stdout",
     "output_type": "stream",
     "text": [
      "1\n",
      "2\n",
      "3\n",
      "4\n"
     ]
    }
   ],
   "source": [
    "t1 = (1,2,3,4)\n",
    "\n",
    "for i in t1:\n",
    "    print(i)"
   ]
  },
  {
   "cell_type": "markdown",
   "id": "d026ea80",
   "metadata": {},
   "source": [
    "#### **Tuple Functions**\n",
    "\n",
    "**Built-in Functions with Tuples :**\n",
    "\n",
    "| Function          | Description                                                             |\n",
    "| ----------------- | ----------------------------------------------------------------------- |\n",
    "| `len(tuple)`      | Returns the number of elements in the tuple                             |\n",
    "| `max(tuple)`      | Returns the maximum value in the tuple (works with comparable elements) |\n",
    "| `min(tuple)`      | Returns the minimum value in the tuple                                  |\n",
    "| `sum(tuple)`      | Returns the sum of all elements (only numeric values)                   |\n",
    "| `sorted(tuple)`   | Returns a sorted list from the tuple                                    |\n",
    "| `tuple(iterable)` | Converts an iterable (like list/string) into a tuple                    |\n",
    "\n",
    "\n",
    "\n",
    "**Tuple Methods :**\n",
    "\n",
    "| Method           | Description                                          |\n",
    "| ---------------- | ---------------------------------------------------- |\n",
    "| `tuple.count(x)` | Returns the number of times `x` appears in the tuple |\n",
    "| `tuple.index(x)` | Returns the first index of `x` in the tuple          |\n"
   ]
  },
  {
   "cell_type": "code",
   "execution_count": 4,
   "id": "e7ac1aae",
   "metadata": {},
   "outputs": [],
   "source": [
    "t = (1,2,3,4,5,6)"
   ]
  },
  {
   "cell_type": "code",
   "execution_count": 5,
   "id": "dedc6d8a",
   "metadata": {},
   "outputs": [
    {
     "name": "stdout",
     "output_type": "stream",
     "text": [
      "6\n"
     ]
    }
   ],
   "source": [
    "# len()\n",
    "\n",
    "print(len(t)) "
   ]
  },
  {
   "cell_type": "code",
   "execution_count": 6,
   "id": "c3836a77",
   "metadata": {},
   "outputs": [
    {
     "name": "stdout",
     "output_type": "stream",
     "text": [
      "6\n"
     ]
    }
   ],
   "source": [
    "# max()\n",
    "\n",
    "print(max(t)) "
   ]
  },
  {
   "cell_type": "code",
   "execution_count": 7,
   "id": "0aabb5a0",
   "metadata": {},
   "outputs": [
    {
     "name": "stdout",
     "output_type": "stream",
     "text": [
      "1\n"
     ]
    }
   ],
   "source": [
    "# min()\n",
    "\n",
    "print(min(t)) "
   ]
  },
  {
   "cell_type": "code",
   "execution_count": 8,
   "id": "daebe5d3",
   "metadata": {},
   "outputs": [
    {
     "name": "stdout",
     "output_type": "stream",
     "text": [
      "[1, 2, 3, 4, 5, 6]\n"
     ]
    }
   ],
   "source": [
    "# sorted()\n",
    "\n",
    "print(sorted(t)) "
   ]
  },
  {
   "cell_type": "code",
   "execution_count": 13,
   "id": "8b3eb5b8",
   "metadata": {},
   "outputs": [
    {
     "name": "stdout",
     "output_type": "stream",
     "text": [
      "[6, 5, 4, 3, 2, 1]\n"
     ]
    }
   ],
   "source": [
    "# sorted()  in reverse\n",
    "\n",
    "print(sorted(t,reverse=True))"
   ]
  },
  {
   "cell_type": "code",
   "execution_count": 9,
   "id": "a10ff62a",
   "metadata": {},
   "outputs": [
    {
     "name": "stdout",
     "output_type": "stream",
     "text": [
      "21\n"
     ]
    }
   ],
   "source": [
    "# sum()\n",
    "\n",
    "print(sum(t))"
   ]
  },
  {
   "cell_type": "code",
   "execution_count": 10,
   "id": "84907d67",
   "metadata": {},
   "outputs": [
    {
     "name": "stdout",
     "output_type": "stream",
     "text": [
      "(1, 2, 3, 4)\n"
     ]
    }
   ],
   "source": [
    "# tuple ()\n",
    "\n",
    "l = [1,2,3,4]\n",
    "\n",
    "print(tuple(l))"
   ]
  },
  {
   "cell_type": "code",
   "execution_count": 11,
   "id": "5a07ad0b",
   "metadata": {},
   "outputs": [
    {
     "data": {
      "text/plain": [
       "1"
      ]
     },
     "execution_count": 11,
     "metadata": {},
     "output_type": "execute_result"
    }
   ],
   "source": [
    "# count()\n",
    "\n",
    "t.count(4)"
   ]
  },
  {
   "cell_type": "code",
   "execution_count": 12,
   "id": "0535df21",
   "metadata": {},
   "outputs": [
    {
     "data": {
      "text/plain": [
       "5"
      ]
     },
     "execution_count": 12,
     "metadata": {},
     "output_type": "execute_result"
    }
   ],
   "source": [
    "# index()\n",
    "\n",
    "t.index(6)"
   ]
  },
  {
   "cell_type": "markdown",
   "id": "2e1520c3",
   "metadata": {},
   "source": [
    "#### **Difference between Lists and Tuples**\n",
    "\n",
    "| Feature               | **List**                       | **Tuple**                        |\n",
    "| --------------------- | ------------------------------ | -------------------------------- |\n",
    "| **Syntax**            | `list1 = [1, 2, 3]`            | `tuple1 = (1, 2, 3)`             |\n",
    "| **Mutable**           | Yes – Can be changed           | No – Immutable (can't change)  |\n",
    "| **Performance**       | Slower (due to mutability)     | Faster (fixed size, optimized)   |\n",
    "| **Methods Available** | Many methods (`append`, `pop`) | Fewer methods (`count`, `index`) |\n",
    "| **Memory Usage**      | Uses more memory               | Uses less memory                 |\n",
    "| **Use Case**          | When data changes frequently   | When data should remain constant |\n",
    "| **Can be a dict key** | No                             | Yes                            |\n",
    "| **Safety**            | Less safe – can be modified    | Safer – can't be modified        |\n",
    "| **Iteration**         | Slightly slower                | Slightly faster                  |\n"
   ]
  },
  {
   "cell_type": "markdown",
   "id": "c4aa4382",
   "metadata": {},
   "source": [
    "**Performance Test**"
   ]
  },
  {
   "cell_type": "code",
   "execution_count": 19,
   "id": "8c3c249a",
   "metadata": {},
   "outputs": [
    {
     "name": "stdout",
     "output_type": "stream",
     "text": [
      "The time taken by List: 0.7194516658782959\n",
      "The time taken by Tuple: 0.7118313312530518\n"
     ]
    }
   ],
   "source": [
    "import time\n",
    "\n",
    "L = list(range(10000000))\n",
    "t = tuple(range(10000000))\n",
    "\n",
    "start = time.time()\n",
    "for i in L:\n",
    "    i*5\n",
    "print(\"The time taken by List:\",time.time()- start)\n",
    "\n",
    "start1 = time.time()\n",
    "for i in t:\n",
    "    i*5\n",
    "print(\"The time taken by Tuple:\",time.time()- start1)\n"
   ]
  },
  {
   "cell_type": "markdown",
   "id": "2d04c2b4",
   "metadata": {},
   "source": [
    "**Memory Test**"
   ]
  },
  {
   "cell_type": "code",
   "execution_count": 21,
   "id": "89321f7b",
   "metadata": {},
   "outputs": [
    {
     "name": "stdout",
     "output_type": "stream",
     "text": [
      "Memory taken by list : 8056\n",
      "Memory taken by tuple : 8040\n"
     ]
    }
   ],
   "source": [
    "import sys\n",
    "\n",
    "L = list(range(1000))\n",
    "t = tuple(range(1000))\n",
    "\n",
    "print(\"Memory taken by list :\",sys.getsizeof(L))\n",
    "print(\"Memory taken by tuple :\",sys.getsizeof(t))"
   ]
  },
  {
   "cell_type": "markdown",
   "id": "110fbcd8",
   "metadata": {},
   "source": [
    "**Error Prone Test**"
   ]
  },
  {
   "cell_type": "code",
   "execution_count": 24,
   "id": "1743f0c7",
   "metadata": {},
   "outputs": [
    {
     "name": "stdout",
     "output_type": "stream",
     "text": [
      "[1, 2, 3, 4, 5]\n",
      "[1, 2, 3, 4, 5]\n"
     ]
    }
   ],
   "source": [
    "# List\n",
    "\n",
    "a = [1,2,3,4]\n",
    "b = a\n",
    "\n",
    "a.append(5)\n",
    "print(a)\n",
    "print(b)"
   ]
  },
  {
   "cell_type": "code",
   "execution_count": 25,
   "id": "646e6259",
   "metadata": {},
   "outputs": [
    {
     "name": "stdout",
     "output_type": "stream",
     "text": [
      "(1, 2, 3, 4, 5)\n",
      "(1, 2, 3, 4)\n"
     ]
    }
   ],
   "source": [
    "# Tuple \n",
    "\n",
    "a = (1,2,3,4)\n",
    "\n",
    "b = a \n",
    "\n",
    "a = a + (5,)\n",
    "print(a)\n",
    "print(b)"
   ]
  },
  {
   "cell_type": "markdown",
   "id": "6fbaf9d0",
   "metadata": {},
   "source": [
    "#### Special Syntax"
   ]
  },
  {
   "cell_type": "code",
   "execution_count": null,
   "id": "249a8de4",
   "metadata": {},
   "outputs": [
    {
     "name": "stdout",
     "output_type": "stream",
     "text": [
      "1 2 3\n"
     ]
    }
   ],
   "source": [
    "a, b, c = (1,2,3)\n",
    "print(a,b,c)"
   ]
  },
  {
   "cell_type": "code",
   "execution_count": null,
   "id": "03c5fb00",
   "metadata": {},
   "outputs": [],
   "source": [
    "# a, b = (1,2,3)  # it will give error , both side must be equal"
   ]
  },
  {
   "cell_type": "markdown",
   "id": "8a453ce3",
   "metadata": {},
   "source": [
    "**Special Syntax to swap the items**"
   ]
  },
  {
   "cell_type": "code",
   "execution_count": 30,
   "id": "53399158",
   "metadata": {},
   "outputs": [
    {
     "name": "stdout",
     "output_type": "stream",
     "text": [
      "2 1\n"
     ]
    }
   ],
   "source": [
    "a = 1\n",
    "b = 2\n",
    "\n",
    "a, b = b, a\n",
    "\n",
    "print(a,b)"
   ]
  },
  {
   "cell_type": "markdown",
   "id": "3093bdaa",
   "metadata": {},
   "source": [
    "**tuple unpacking**"
   ]
  },
  {
   "cell_type": "code",
   "execution_count": 31,
   "id": "e9435854",
   "metadata": {},
   "outputs": [
    {
     "name": "stdout",
     "output_type": "stream",
     "text": [
      "[3, 4, 5]\n"
     ]
    }
   ],
   "source": [
    "a, b, *others = (1,2,3,4,5)\n",
    "\n",
    "print(others)"
   ]
  },
  {
   "cell_type": "markdown",
   "id": "f6b460bb",
   "metadata": {},
   "source": [
    "#### Zipping the tuples"
   ]
  },
  {
   "cell_type": "code",
   "execution_count": 34,
   "id": "48089a12",
   "metadata": {},
   "outputs": [
    {
     "data": {
      "text/plain": [
       "[(1, 5), (2, 6), (3, 7), (4, 8)]"
      ]
     },
     "execution_count": 34,
     "metadata": {},
     "output_type": "execute_result"
    }
   ],
   "source": [
    "a = (1,2,3,4)\n",
    "b = (5,6,7,8)\n",
    "\n",
    "list(zip(a,b))"
   ]
  },
  {
   "cell_type": "code",
   "execution_count": 35,
   "id": "92aaac7d",
   "metadata": {},
   "outputs": [
    {
     "data": {
      "text/plain": [
       "((1, 5), (2, 6), (3, 7), (4, 8))"
      ]
     },
     "execution_count": 35,
     "metadata": {},
     "output_type": "execute_result"
    }
   ],
   "source": [
    "tuple(zip(a,b))"
   ]
  }
 ],
 "metadata": {
  "kernelspec": {
   "display_name": "MlWorld",
   "language": "python",
   "name": "python3"
  },
  "language_info": {
   "codemirror_mode": {
    "name": "ipython",
    "version": 3
   },
   "file_extension": ".py",
   "mimetype": "text/x-python",
   "name": "python",
   "nbconvert_exporter": "python",
   "pygments_lexer": "ipython3",
   "version": "3.10.18"
  }
 },
 "nbformat": 4,
 "nbformat_minor": 5
}
