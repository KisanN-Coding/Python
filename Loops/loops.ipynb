{
 "cells": [
  {
   "cell_type": "markdown",
   "id": "a9774e53",
   "metadata": {},
   "source": [
    "## Loops in python \n",
    "\n",
    "**Loops are used to repeat a block of code multiple times**\n",
    "\n",
    "* Just like in real life:\n",
    "\"Do your homework 5 times\" = a loop\n",
    "\n",
    "**Two Main Types of Loops in Python**\n",
    "\n",
    "| Loop Type    | Used When                                              |\n",
    "| ------------ | ------------------------------------------------------ |\n",
    "| `for` loop   | You know **how many times** to repeat                  |\n",
    "| `while` loop | You want to repeat **until a condition becomes false** |\n"
   ]
  },
  {
   "cell_type": "markdown",
   "id": "754699d0",
   "metadata": {},
   "source": [
    "### **While Loop**"
   ]
  },
  {
   "cell_type": "code",
   "execution_count": null,
   "id": "8dd0a491",
   "metadata": {},
   "outputs": [
    {
     "name": "stdout",
     "output_type": "stream",
     "text": [
      "12 * 1 = 12\n",
      "12 * 2 = 24\n",
      "12 * 3 = 36\n",
      "12 * 4 = 48\n",
      "12 * 5 = 60\n",
      "12 * 6 = 72\n",
      "12 * 7 = 84\n",
      "12 * 8 = 96\n",
      "12 * 9 = 108\n",
      "12 * 10 = 120\n"
     ]
    }
   ],
   "source": [
    "\n",
    "# Example : Program to print a table \n",
    "\n",
    "num = int(input(\"Enter the number: \"))\n",
    "\n",
    "i = 1\n",
    "\n",
    "while i < 11:\n",
    "    print(num, '*', i, '=', num* i)\n",
    "    \n",
    "    i+=1"
   ]
  },
  {
   "cell_type": "code",
   "execution_count": 5,
   "id": "32f4a5a9",
   "metadata": {},
   "outputs": [
    {
     "name": "stdout",
     "output_type": "stream",
     "text": [
      "1\n",
      "2\n",
      "limit crossed\n"
     ]
    }
   ],
   "source": [
    "# while with if else\n",
    "\n",
    "x = 1\n",
    "\n",
    "while x < 3:\n",
    "    print(x)\n",
    "    x+=1\n",
    "else:\n",
    "    print(\"limit crossed\")"
   ]
  },
  {
   "cell_type": "code",
   "execution_count": 13,
   "id": "2c33b0e2",
   "metadata": {},
   "outputs": [
    {
     "name": "stdout",
     "output_type": "stream",
     "text": [
      "galat!, guess higher number\n",
      "galat!, guess lower number\n",
      "galat!, guess lower number\n",
      "galat!, guess lower number\n",
      "galat!, guess lower number\n",
      "galat!, guess lower number\n",
      "galat!, guess higher number\n",
      "galat!, guess lower number\n",
      "galat!, guess lower number\n",
      "7 crore\n",
      "Number of attempts:  10\n"
     ]
    }
   ],
   "source": [
    "# Example : Number Guessing game \n",
    "\n",
    "# gernerating random number between 1 to 100 \n",
    "import random\n",
    "jackpot = random.randint(1,100)\n",
    "\n",
    "guess = int(input(\"Guess the number:\"))\n",
    "\n",
    "counter = 1\n",
    "\n",
    "while guess != jackpot:\n",
    "    if guess < jackpot:\n",
    "        print(\"galat!, guess higher number\")\n",
    "    \n",
    "    else:\n",
    "        print(\"galat!, guess lower number\")\n",
    "        \n",
    "    guess = int(input(\"Guess the number:\"))\n",
    "    \n",
    "    counter +=1\n",
    "    \n",
    "else:\n",
    "    print(\"7 crore\")\n",
    "    print(\"Number of attempts: \",counter)\n",
    "    \n",
    "\n"
   ]
  },
  {
   "cell_type": "markdown",
   "id": "eefdaeef",
   "metadata": {},
   "source": [
    "### **For Loop**"
   ]
  },
  {
   "cell_type": "code",
   "execution_count": 14,
   "id": "0ecde44b",
   "metadata": {},
   "outputs": [
    {
     "name": "stdout",
     "output_type": "stream",
     "text": [
      "1\n",
      "2\n",
      "3\n",
      "4\n",
      "5\n",
      "6\n",
      "7\n",
      "8\n",
      "9\n",
      "10\n"
     ]
    }
   ],
   "source": [
    "#Example \n",
    "\n",
    "for i in range(1,11):\n",
    "    print(i)"
   ]
  },
  {
   "cell_type": "code",
   "execution_count": 15,
   "id": "180e870c",
   "metadata": {},
   "outputs": [
    {
     "name": "stdout",
     "output_type": "stream",
     "text": [
      "P\n",
      "u\n",
      "n\n",
      "e\n"
     ]
    }
   ],
   "source": [
    "# Example 2\n",
    "\n",
    "for i in \"Pune\":\n",
    "    print(i)"
   ]
  },
  {
   "cell_type": "markdown",
   "id": "541ee6a0",
   "metadata": {},
   "source": [
    "**Example 1:** Current population of town is 10000. The population of town is increasing at rate of 10% per year. You have to right a program to find out the population at end of each of last 10 years"
   ]
  },
  {
   "cell_type": "code",
   "execution_count": 18,
   "id": "a801526e",
   "metadata": {},
   "outputs": [
    {
     "name": "stdout",
     "output_type": "stream",
     "text": [
      "Year 10 : Population = 9090\n",
      "Year 9 : Population = 8264\n",
      "Year 8 : Population = 7513\n",
      "Year 7 : Population = 6830\n",
      "Year 6 : Population = 6209\n",
      "Year 5 : Population = 5644\n",
      "Year 4 : Population = 5131\n",
      "Year 3 : Population = 4665\n",
      "Year 2 : Population = 4240\n",
      "Year 1 : Population = 3855\n"
     ]
    }
   ],
   "source": [
    "curr_pop = 10000\n",
    "rate = 0.10\n",
    "\n",
    "for i in range(10,0,-1):\n",
    "    curr_pop = curr_pop /(1 + rate)\n",
    "    \n",
    "    print(f\"Year {i} : Population = {int(curr_pop)}\")"
   ]
  },
  {
   "cell_type": "markdown",
   "id": "e9ab5331",
   "metadata": {},
   "source": [
    "**Example 2 : Sequence sum** \n",
    "\n",
    "1/1! + 2/2! + 3/3! + ...."
   ]
  },
  {
   "cell_type": "code",
   "execution_count": 19,
   "id": "4c8ba64b",
   "metadata": {},
   "outputs": [
    {
     "name": "stdout",
     "output_type": "stream",
     "text": [
      "2.5\n"
     ]
    }
   ],
   "source": [
    "n = int(input(\"Enter the n: \"))\n",
    "\n",
    "result = 0\n",
    "fact = 1\n",
    "\n",
    "for i in range(1,n+1):\n",
    "    fact = fact * i\n",
    "    result = result + i/fact\n",
    "    \n",
    "print(result)\n",
    "    "
   ]
  },
  {
   "cell_type": "markdown",
   "id": "4bfc4e59",
   "metadata": {},
   "source": [
    "### Nested Loops\n",
    "\n",
    "**A nested loop means a loop inside another loop**"
   ]
  },
  {
   "cell_type": "markdown",
   "id": "95526574",
   "metadata": {},
   "source": [
    "Example 1 : Unique Pairs"
   ]
  },
  {
   "cell_type": "code",
   "execution_count": 1,
   "id": "02415a61",
   "metadata": {},
   "outputs": [
    {
     "name": "stdout",
     "output_type": "stream",
     "text": [
      "1 1\n",
      "1 2\n",
      "1 3\n",
      "1 4\n",
      "2 1\n",
      "2 2\n",
      "2 3\n",
      "2 4\n",
      "3 1\n",
      "3 2\n",
      "3 3\n",
      "3 4\n",
      "4 1\n",
      "4 2\n",
      "4 3\n",
      "4 4\n"
     ]
    }
   ],
   "source": [
    "for i in range(1,5):\n",
    "    for j in range(1,5):\n",
    "        print(i,j)"
   ]
  },
  {
   "cell_type": "markdown",
   "id": "b9d13c5a",
   "metadata": {},
   "source": [
    "Example 2 : Patterns"
   ]
  },
  {
   "cell_type": "code",
   "execution_count": 11,
   "id": "c408de22",
   "metadata": {},
   "outputs": [
    {
     "name": "stdout",
     "output_type": "stream",
     "text": [
      "+ \n",
      "+ + \n",
      "+ + + \n",
      "+ + + + \n",
      "+ + + + + \n"
     ]
    }
   ],
   "source": [
    "n = int(input(\"Enter the number:\"))\n",
    "\n",
    "for i in range(1,n+1):\n",
    "    for j in range(1,i+1):\n",
    "        print('+',end=' ')\n",
    "    print()"
   ]
  },
  {
   "cell_type": "markdown",
   "id": "9d045dd4",
   "metadata": {},
   "source": [
    "Example 3: Patterns"
   ]
  },
  {
   "cell_type": "code",
   "execution_count": 27,
   "id": "0c674c5d",
   "metadata": {},
   "outputs": [
    {
     "name": "stdout",
     "output_type": "stream",
     "text": [
      "1 \n",
      "1 2 1 \n",
      "1 2 3 2 1 \n",
      "1 2 3 4 3 2 1 \n"
     ]
    }
   ],
   "source": [
    "n = int(input(\"Enter number:\"))\n",
    "\n",
    "for i in range(1,n+1):\n",
    "    for j in range(1,i+1):\n",
    "        print(j,end=' ')\n",
    "    for k in range(i-1,0,-1):\n",
    "        print(k,end=' ')\n",
    "    print()\n",
    "    "
   ]
  },
  {
   "cell_type": "markdown",
   "id": "cffc5c78",
   "metadata": {},
   "source": [
    "## Loop Control Statements\n",
    "\n",
    "**These are special keywords used to control the flow of loops — like stop, skip, or do nothing**\n",
    "\n",
    "* **There are 3 main control statements**\n",
    "\n",
    "| Keyword    | Meaning                            |\n",
    "| ---------- | ---------------------------------- |\n",
    "| `break`    | 🔴 Stop the loop completely        |\n",
    "| `continue` | 🔄 Skip the current loop iteration |\n",
    "| `pass`     | ⏭ Do nothing (placeholder)         |\n"
   ]
  },
  {
   "cell_type": "markdown",
   "id": "56079c64",
   "metadata": {},
   "source": [
    "#### **break**"
   ]
  },
  {
   "cell_type": "code",
   "execution_count": null,
   "id": "0d9d1fb3",
   "metadata": {},
   "outputs": [
    {
     "name": "stdout",
     "output_type": "stream",
     "text": [
      "1\n",
      "2\n",
      "3\n",
      "4\n"
     ]
    }
   ],
   "source": [
    "# Demo\n",
    "\n",
    "for i in range(1,10):\n",
    "    if i == 5 :\n",
    "        break\n",
    "    print(i)"
   ]
  },
  {
   "cell_type": "markdown",
   "id": "de2ed06f",
   "metadata": {},
   "source": [
    "Example 1 : Find the prime numbers in given range by user"
   ]
  },
  {
   "cell_type": "code",
   "execution_count": 32,
   "id": "73254e4b",
   "metadata": {},
   "outputs": [
    {
     "name": "stdout",
     "output_type": "stream",
     "text": [
      "11\n",
      "13\n",
      "17\n",
      "19\n",
      "23\n",
      "29\n"
     ]
    }
   ],
   "source": [
    "low_r = int(input(\"Enter the lower range:\"))\n",
    "up_r = int(input(\"Enter the upper range:\"))\n",
    "\n",
    "for i in range(low_r, up_r+1):\n",
    "    for j in range(2,i):\n",
    "        if i % j == 0:\n",
    "            break\n",
    "    else:\n",
    "        print(i)"
   ]
  },
  {
   "cell_type": "markdown",
   "id": "aa2f0f52",
   "metadata": {},
   "source": [
    "#### **continue**"
   ]
  },
  {
   "cell_type": "code",
   "execution_count": 1,
   "id": "24bf9f67",
   "metadata": {},
   "outputs": [
    {
     "name": "stdout",
     "output_type": "stream",
     "text": [
      "1\n",
      "2\n",
      "3\n",
      "4\n",
      "6\n",
      "7\n",
      "8\n",
      "9\n"
     ]
    }
   ],
   "source": [
    "for i in range(1,10):\n",
    "    if i == 5:\n",
    "        continue\n",
    "    print(i)"
   ]
  },
  {
   "cell_type": "markdown",
   "id": "631be71c",
   "metadata": {},
   "source": [
    "#### pass"
   ]
  },
  {
   "cell_type": "code",
   "execution_count": 2,
   "id": "f8239bad",
   "metadata": {},
   "outputs": [],
   "source": [
    "for i in range(1,10):\n",
    "    pass"
   ]
  }
 ],
 "metadata": {
  "kernelspec": {
   "display_name": "MlWorld",
   "language": "python",
   "name": "python3"
  },
  "language_info": {
   "codemirror_mode": {
    "name": "ipython",
    "version": 3
   },
   "file_extension": ".py",
   "mimetype": "text/x-python",
   "name": "python",
   "nbconvert_exporter": "python",
   "pygments_lexer": "ipython3",
   "version": "3.10.18"
  }
 },
 "nbformat": 4,
 "nbformat_minor": 5
}
