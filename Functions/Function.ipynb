{
 "cells": [
  {
   "cell_type": "markdown",
   "id": "6169dfad",
   "metadata": {},
   "source": [
    "## **Function in Python**"
   ]
  },
  {
   "cell_type": "markdown",
   "id": "69bf0ecf",
   "metadata": {},
   "source": [
    "#### **Creating a function**"
   ]
  },
  {
   "cell_type": "code",
   "execution_count": null,
   "id": "947ec123",
   "metadata": {},
   "outputs": [],
   "source": [
    "# Example :\n",
    "\n",
    "def is_even(num):\n",
    "    '''\n",
    "    This function returns if a given number is even or odd\n",
    "    Input : Valid integer\n",
    "    Output : Odd / Even\n",
    "    '''\n",
    "    if num % 2 == 0:\n",
    "        return 'even'\n",
    "    else:\n",
    "        return 'odd'"
   ]
  },
  {
   "cell_type": "code",
   "execution_count": 3,
   "id": "ff48c958",
   "metadata": {},
   "outputs": [
    {
     "name": "stdout",
     "output_type": "stream",
     "text": [
      "odd\n",
      "even\n",
      "odd\n",
      "even\n",
      "odd\n",
      "even\n",
      "odd\n",
      "even\n",
      "odd\n",
      "even\n"
     ]
    }
   ],
   "source": [
    " # Calling the function\n",
    "\n",
    "for i in range(1,11):\n",
    "    x = is_even(i)\n",
    "    print(x) "
   ]
  },
  {
   "cell_type": "markdown",
   "id": "cf1d8890",
   "metadata": {},
   "source": [
    "#### **Types of Arguments**\n",
    "\n",
    "**1 ) Default Arguments**\n",
    "\n",
    "**2 ) Positional Arguments**\n",
    "\n",
    "**3 ) Keyword Arguments**\n"
   ]
  },
  {
   "cell_type": "markdown",
   "id": "49c01939",
   "metadata": {},
   "source": [
    "##### **1 ) Default Arguments**\n",
    "\n",
    "- If you don’t provide a value, the function will use the default value\n",
    "\n",
    "- Useful when you want to make some parameters optional"
   ]
  },
  {
   "cell_type": "code",
   "execution_count": 1,
   "id": "ead41a3e",
   "metadata": {},
   "outputs": [],
   "source": [
    "def power(a=1,b=2):\n",
    "    return a**b"
   ]
  },
  {
   "cell_type": "code",
   "execution_count": 4,
   "id": "9c900adf",
   "metadata": {},
   "outputs": [
    {
     "data": {
      "text/plain": [
       "4"
      ]
     },
     "execution_count": 4,
     "metadata": {},
     "output_type": "execute_result"
    }
   ],
   "source": [
    "power(2)"
   ]
  },
  {
   "cell_type": "markdown",
   "id": "b2f8d1c5",
   "metadata": {},
   "source": [
    "##### **2 ) Positional Arguments**\n",
    "\n",
    "- The most common type\n",
    "\n",
    "- The order matters — values are assigned to parameters based on position"
   ]
  },
  {
   "cell_type": "code",
   "execution_count": 6,
   "id": "44c5427e",
   "metadata": {},
   "outputs": [
    {
     "data": {
      "text/plain": [
       "9"
      ]
     },
     "execution_count": 6,
     "metadata": {},
     "output_type": "execute_result"
    }
   ],
   "source": [
    "power(3,2)"
   ]
  },
  {
   "cell_type": "markdown",
   "id": "dd1fff2d",
   "metadata": {},
   "source": [
    "##### **3 ) Keyword Arguments**\n",
    "\n",
    "- You specify parameter names while calling the function\n",
    "\n",
    "- Order does not matter since you are explicit"
   ]
  },
  {
   "cell_type": "code",
   "execution_count": 7,
   "id": "2b6e99b2",
   "metadata": {},
   "outputs": [
    {
     "data": {
      "text/plain": [
       "32"
      ]
     },
     "execution_count": 7,
     "metadata": {},
     "output_type": "execute_result"
    }
   ],
   "source": [
    "power(b=5,a=2)"
   ]
  },
  {
   "cell_type": "markdown",
   "id": "6632ad1f",
   "metadata": {},
   "source": [
    "#### **args and kwargs**\n",
    "\n",
    "This are the special Python keywords that are used to pass the variable length of arguments to a function"
   ]
  },
  {
   "cell_type": "code",
   "execution_count": null,
   "id": "61207349",
   "metadata": {},
   "outputs": [],
   "source": [
    "def multiply(*args):  \n",
    "    product = 1\n",
    "    for i in args:\n",
    "        product = product * i \n",
    "    return product"
   ]
  },
  {
   "cell_type": "code",
   "execution_count": 9,
   "id": "a068f6b2",
   "metadata": {},
   "outputs": [
    {
     "data": {
      "text/plain": [
       "120"
      ]
     },
     "execution_count": 9,
     "metadata": {},
     "output_type": "execute_result"
    }
   ],
   "source": [
    "multiply(2,3,4,5)"
   ]
  },
  {
   "cell_type": "code",
   "execution_count": 10,
   "id": "ea3195c0",
   "metadata": {},
   "outputs": [],
   "source": [
    "# args can be replace by any word\n",
    "def multiply(*fake):  \n",
    "    product = 1\n",
    "    for i in fake:\n",
    "        product = product * i \n",
    "    return product"
   ]
  },
  {
   "cell_type": "code",
   "execution_count": 11,
   "id": "b2912dbf",
   "metadata": {},
   "outputs": [
    {
     "data": {
      "text/plain": [
       "120"
      ]
     },
     "execution_count": 11,
     "metadata": {},
     "output_type": "execute_result"
    }
   ],
   "source": [
    "multiply(2,3,4,5)"
   ]
  },
  {
   "cell_type": "code",
   "execution_count": 17,
   "id": "8a2285de",
   "metadata": {},
   "outputs": [],
   "source": [
    "def display(**kwargs):\n",
    "    for (key, value) in kwargs.items():\n",
    "        print(key, '-->', value)"
   ]
  },
  {
   "cell_type": "code",
   "execution_count": 18,
   "id": "a89b44c5",
   "metadata": {},
   "outputs": [
    {
     "name": "stdout",
     "output_type": "stream",
     "text": [
      "india --> delhi\n",
      "nepal --> kathmandu\n"
     ]
    }
   ],
   "source": [
    "display(india='delhi', nepal ='kathmandu')"
   ]
  },
  {
   "cell_type": "markdown",
   "id": "3f8e9ff7",
   "metadata": {},
   "source": [
    "#### **Nested Function**"
   ]
  },
  {
   "cell_type": "code",
   "execution_count": 11,
   "id": "a573c926",
   "metadata": {},
   "outputs": [],
   "source": [
    "def f():\n",
    "    \n",
    "    def g():\n",
    "        print(\"Inside func g\")\n",
    "    g()\n",
    "    print(\"Inside func f\")\n"
   ]
  },
  {
   "cell_type": "markdown",
   "id": "84fbd8a8",
   "metadata": {},
   "source": [
    "#### **Functions are first class citizens**"
   ]
  },
  {
   "cell_type": "code",
   "execution_count": 9,
   "id": "63bbdbf7",
   "metadata": {},
   "outputs": [
    {
     "name": "stdout",
     "output_type": "stream",
     "text": [
      "<class 'function'>\n",
      "140069690699360\n"
     ]
    }
   ],
   "source": [
    "# type and id \n",
    "\n",
    "def square(num):\n",
    "    return num**2\n",
    "\n",
    "print(type(square))\n",
    "print(id(square))"
   ]
  },
  {
   "cell_type": "code",
   "execution_count": 6,
   "id": "cd51c6f6",
   "metadata": {},
   "outputs": [
    {
     "data": {
      "text/plain": [
       "140069690698208"
      ]
     },
     "execution_count": 6,
     "metadata": {},
     "output_type": "execute_result"
    }
   ],
   "source": [
    "# Reassign\n",
    "\n",
    "x = square\n",
    "\n",
    "id(x)"
   ]
  },
  {
   "cell_type": "code",
   "execution_count": null,
   "id": "3cd88293",
   "metadata": {},
   "outputs": [
    {
     "data": {
      "text/plain": [
       "16"
      ]
     },
     "execution_count": 7,
     "metadata": {},
     "output_type": "execute_result"
    }
   ],
   "source": [
    "x(4)"
   ]
  },
  {
   "cell_type": "code",
   "execution_count": null,
   "id": "662c85a2",
   "metadata": {},
   "outputs": [],
   "source": [
    "# Deleting function\n",
    "del square"
   ]
  },
  {
   "cell_type": "code",
   "execution_count": 12,
   "id": "779f046f",
   "metadata": {},
   "outputs": [
    {
     "name": "stdout",
     "output_type": "stream",
     "text": [
      "[1, 2, 3, 4, 5, <function square at 0x7f6484286e60>]\n"
     ]
    }
   ],
   "source": [
    "# storing\n",
    "\n",
    "L = [1,2,3,4,5,square]\n",
    "print(L)"
   ]
  },
  {
   "cell_type": "markdown",
   "id": "3e7acd9d",
   "metadata": {},
   "source": [
    "#### **Returning the function**"
   ]
  },
  {
   "cell_type": "code",
   "execution_count": 13,
   "id": "f0674dbf",
   "metadata": {},
   "outputs": [
    {
     "name": "stdout",
     "output_type": "stream",
     "text": [
      "7\n"
     ]
    }
   ],
   "source": [
    "def f():\n",
    "    def x(a, b):\n",
    "        return a + b\n",
    "    return x\n",
    "\n",
    "val = f()(3,4)\n",
    "print(val)"
   ]
  },
  {
   "cell_type": "markdown",
   "id": "9314dfd6",
   "metadata": {},
   "source": [
    "#### **function as agrument**"
   ]
  },
  {
   "cell_type": "code",
   "execution_count": 14,
   "id": "33987461",
   "metadata": {},
   "outputs": [
    {
     "name": "stdout",
     "output_type": "stream",
     "text": [
      "Inside func b\n",
      "Inside func a\n",
      "None\n"
     ]
    }
   ],
   "source": [
    "def fun_a():\n",
    "    print(\"Inside func a\")\n",
    "\n",
    "def fun_b(z):\n",
    "    print(\"Inside func b\")\n",
    "    return z()\n",
    "\n",
    "print(fun_b(fun_a))"
   ]
  },
  {
   "cell_type": "markdown",
   "id": "f892f38d",
   "metadata": {},
   "source": [
    "#### **Lambda Function**\n",
    "\n",
    "A lambda function is small anonymous function.\n",
    "\n",
    "A lambda function take any number of arguments, but can only have one expression."
   ]
  },
  {
   "cell_type": "code",
   "execution_count": 17,
   "id": "61dcbab5",
   "metadata": {},
   "outputs": [
    {
     "data": {
      "text/plain": [
       "9"
      ]
     },
     "execution_count": 17,
     "metadata": {},
     "output_type": "execute_result"
    }
   ],
   "source": [
    "# Example : x --> x^2\n",
    "\n",
    "a = lambda x : x**2\n",
    "a(3)"
   ]
  },
  {
   "cell_type": "code",
   "execution_count": 19,
   "id": "d287ff2c",
   "metadata": {},
   "outputs": [
    {
     "data": {
      "text/plain": [
       "True"
      ]
     },
     "execution_count": 19,
     "metadata": {},
     "output_type": "execute_result"
    }
   ],
   "source": [
    "# Example : Check if string has 'a' ?\n",
    "\n",
    "a = lambda s : 'a' in s\n",
    "a('iamfakecoder')"
   ]
  },
  {
   "cell_type": "code",
   "execution_count": 21,
   "id": "77be4212",
   "metadata": {},
   "outputs": [
    {
     "data": {
      "text/plain": [
       "'odd'"
      ]
     },
     "execution_count": 21,
     "metadata": {},
     "output_type": "execute_result"
    }
   ],
   "source": [
    "# Example : Check is the number is odd or even\n",
    "\n",
    "b = lambda x : 'even' if x%2 == 0 else 'odd'\n",
    "b(23)"
   ]
  },
  {
   "cell_type": "markdown",
   "id": "53bb7eae",
   "metadata": {},
   "source": [
    "#### **Higher Order Functions**"
   ]
  },
  {
   "cell_type": "markdown",
   "id": "bb391c87",
   "metadata": {},
   "source": [
    "##### **1 ) Map**"
   ]
  },
  {
   "cell_type": "code",
   "execution_count": 26,
   "id": "94dc036c",
   "metadata": {},
   "outputs": [
    {
     "data": {
      "text/plain": [
       "[1, 4, 9, 16, 25]"
      ]
     },
     "execution_count": 26,
     "metadata": {},
     "output_type": "execute_result"
    }
   ],
   "source": [
    "# square the items of list \n",
    "\n",
    "list(map(lambda x : x **2,[1,2,3,4,5]))"
   ]
  },
  {
   "cell_type": "code",
   "execution_count": 30,
   "id": "c3269642",
   "metadata": {},
   "outputs": [
    {
     "data": {
      "text/plain": [
       "['even', 'odd', 'even', 'odd', 'even', 'odd']"
      ]
     },
     "execution_count": 30,
     "metadata": {},
     "output_type": "execute_result"
    }
   ],
   "source": [
    "# odd/ even labelling of list items\n",
    "\n",
    "list(map(lambda x : 'even' if x%2 == 0 else 'odd',[0,1,2,3,4,5]))"
   ]
  },
  {
   "cell_type": "markdown",
   "id": "0f696a42",
   "metadata": {},
   "source": [
    "##### **2) Filter**"
   ]
  },
  {
   "cell_type": "code",
   "execution_count": 33,
   "id": "f6be6cac",
   "metadata": {},
   "outputs": [
    {
     "data": {
      "text/plain": [
       "[6, 7, 8]"
      ]
     },
     "execution_count": 33,
     "metadata": {},
     "output_type": "execute_result"
    }
   ],
   "source": [
    "# Example : Number greater than 5\n",
    "\n",
    "L = [3,4,6,7,8]\n",
    "\n",
    "list(filter(lambda x: x > 5 , L))"
   ]
  },
  {
   "cell_type": "code",
   "execution_count": 36,
   "id": "9c568ba5",
   "metadata": {},
   "outputs": [
    {
     "data": {
      "text/plain": [
       "['apple']"
      ]
     },
     "execution_count": 36,
     "metadata": {},
     "output_type": "execute_result"
    }
   ],
   "source": [
    "fruits = ['apple', 'guava', 'cherry', ]\n",
    "\n",
    "list(filter(lambda x: x.startswith('a'),fruits))"
   ]
  },
  {
   "cell_type": "markdown",
   "id": "3978e5b0",
   "metadata": {},
   "source": [
    "##### **2) Reduce**"
   ]
  },
  {
   "cell_type": "code",
   "execution_count": null,
   "id": "2d7624f3",
   "metadata": {},
   "outputs": [
    {
     "data": {
      "text/plain": [
       "15"
      ]
     },
     "execution_count": 38,
     "metadata": {},
     "output_type": "execute_result"
    }
   ],
   "source": [
    "import functools\n",
    "\n",
    "functools.reduce(lambda x, y : x+y,[1,2,3,4,5])"
   ]
  },
  {
   "cell_type": "code",
   "execution_count": null,
   "id": "07c8fa7e",
   "metadata": {},
   "outputs": [
    {
     "data": {
      "text/plain": [
       "1"
      ]
     },
     "execution_count": 40,
     "metadata": {},
     "output_type": "execute_result"
    }
   ],
   "source": [
    "# Example : Find minimum from list\n",
    "\n",
    "functools.reduce(lambda x,y : x if x < y else y ,[23,11,45,10,1])\n"
   ]
  },
  {
   "cell_type": "code",
   "execution_count": 41,
   "id": "fb16ed8b",
   "metadata": {},
   "outputs": [
    {
     "data": {
      "text/plain": [
       "45"
      ]
     },
     "execution_count": 41,
     "metadata": {},
     "output_type": "execute_result"
    }
   ],
   "source": [
    "# Example : Find maximum from list\n",
    "\n",
    "functools.reduce(lambda x,y : x if x > y else y ,[23,11,45,10,1])"
   ]
  }
 ],
 "metadata": {
  "kernelspec": {
   "display_name": "MlWorld",
   "language": "python",
   "name": "python3"
  },
  "language_info": {
   "codemirror_mode": {
    "name": "ipython",
    "version": 3
   },
   "file_extension": ".py",
   "mimetype": "text/x-python",
   "name": "python",
   "nbconvert_exporter": "python",
   "pygments_lexer": "ipython3",
   "version": "3.10.18"
  }
 },
 "nbformat": 4,
 "nbformat_minor": 5
}
