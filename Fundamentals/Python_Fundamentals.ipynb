{
  "cells": [
    {
      "cell_type": "markdown",
      "metadata": {
        "id": "KQr5sLP3FdB9"
      },
      "source": [
        "## 1) `Python Print Function`\n",
        "\n",
        "The print( ) function is used to show output on the screen.\n",
        "\n",
        "Think of it like speaking out loud — whatever you want the computer to say, you put inside print( )."
      ]
    },
    {
      "cell_type": "markdown",
      "metadata": {
        "id": "j7SQyMX6U2nS"
      },
      "source": [
        "**Syntax**"
      ]
    },
    {
      "cell_type": "code",
      "execution_count": null,
      "metadata": {
        "id": "s9q50J9vFcg9"
      },
      "outputs": [],
      "source": [
        "# print(anything that we want to print)"
      ]
    },
    {
      "cell_type": "markdown",
      "metadata": {
        "id": "cIhOcZ9fVnRN"
      },
      "source": [
        "**Example**"
      ]
    },
    {
      "cell_type": "code",
      "execution_count": null,
      "metadata": {
        "colab": {
          "base_uri": "https://localhost:8080/"
        },
        "id": "UTq5V6zcV0GC",
        "outputId": "e274b039-bef2-4dcb-9c33-359dfa7aeeff"
      },
      "outputs": [
        {
          "name": "stdout",
          "output_type": "stream",
          "text": [
            "Hello, I am Python \n"
          ]
        }
      ],
      "source": [
        "print('Hello, I am Python ')"
      ]
    },
    {
      "cell_type": "markdown",
      "metadata": {
        "id": "pphgWykIWGS2"
      },
      "source": [
        " ## We can print"
      ]
    },
    {
      "cell_type": "markdown",
      "metadata": {
        "id": "RffEgslhWUnM"
      },
      "source": [
        "**1) Text ( Strings )**"
      ]
    },
    {
      "cell_type": "code",
      "execution_count": null,
      "metadata": {
        "colab": {
          "base_uri": "https://localhost:8080/"
        },
        "id": "w6eM2WvdGHkk",
        "outputId": "750033da-4de5-4650-e0b8-3d8fe6992c80"
      },
      "outputs": [
        {
          "name": "stdout",
          "output_type": "stream",
          "text": [
            "My name is python a programming language, it is very easy to understand me\n"
          ]
        }
      ],
      "source": [
        "print(\"My name is python a programming language, it is very easy to understand me\")"
      ]
    },
    {
      "cell_type": "markdown",
      "metadata": {
        "id": "FDQuMObjXauD"
      },
      "source": [
        "**2) Numbers**"
      ]
    },
    {
      "cell_type": "code",
      "execution_count": null,
      "metadata": {
        "colab": {
          "base_uri": "https://localhost:8080/"
        },
        "id": "oFC_FEkgXegv",
        "outputId": "52583a96-9f22-4ffd-d3d9-76e6e93b1668"
      },
      "outputs": [
        {
          "name": "stdout",
          "output_type": "stream",
          "text": [
            "21\n",
            "8.5\n"
          ]
        }
      ],
      "source": [
        "# integer value\n",
        "\n",
        "print(21)\n",
        "\n",
        "# float value\n",
        "\n",
        "print(8.5)"
      ]
    },
    {
      "cell_type": "markdown",
      "metadata": {
        "id": "SKX9CFfbW6Kh"
      },
      "source": [
        "**3) Variables**"
      ]
    },
    {
      "cell_type": "code",
      "execution_count": null,
      "metadata": {
        "colab": {
          "base_uri": "https://localhost:8080/"
        },
        "id": "XrSujJItXBNM",
        "outputId": "a35b211a-073e-4745-e9eb-9c861e8b35bc"
      },
      "outputs": [
        {
          "name": "stdout",
          "output_type": "stream",
          "text": [
            "python\n"
          ]
        }
      ],
      "source": [
        "name = \"python\"\n",
        "\n",
        "print(name)"
      ]
    },
    {
      "cell_type": "markdown",
      "metadata": {
        "id": "Vfd7_QMrXz7x"
      },
      "source": [
        "**3) Expressions**"
      ]
    },
    {
      "cell_type": "code",
      "execution_count": null,
      "metadata": {
        "colab": {
          "base_uri": "https://localhost:8080/"
        },
        "id": "-MuZcxSXX3rQ",
        "outputId": "7bea9d27-561d-4652-bcf1-6d30c427cab5"
      },
      "outputs": [
        {
          "name": "stdout",
          "output_type": "stream",
          "text": [
            "13\n"
          ]
        }
      ],
      "source": [
        "# Adding 5 and 8\n",
        "\n",
        "print(5 + 8)"
      ]
    },
    {
      "cell_type": "markdown",
      "metadata": {
        "id": "QYD0SbcoYHXB"
      },
      "source": [
        "**4) We can also print them together in one line**"
      ]
    },
    {
      "cell_type": "code",
      "execution_count": null,
      "metadata": {
        "colab": {
          "base_uri": "https://localhost:8080/"
        },
        "id": "oWTAfwMkYRU5",
        "outputId": "3d863098-1e27-4443-ba90-ea68f756a8ee"
      },
      "outputs": [
        {
          "name": "stdout",
          "output_type": "stream",
          "text": [
            "Hello Python 21 python True 13\n"
          ]
        }
      ],
      "source": [
        "print(\"Hello Python\",21,name,True,5+8)"
      ]
    },
    {
      "cell_type": "markdown",
      "metadata": {
        "id": "fyTrxgQGYq67"
      },
      "source": [
        "## Optional Parameters"
      ]
    },
    {
      "cell_type": "markdown",
      "metadata": {
        "id": "Z6T-ibe8ZK6j"
      },
      "source": [
        "**1) `sep` - Separator between items**"
      ]
    },
    {
      "cell_type": "code",
      "execution_count": null,
      "metadata": {
        "colab": {
          "base_uri": "https://localhost:8080/"
        },
        "id": "5TuXCRwLEOlS",
        "outputId": "748a122a-9ac0-45e6-e710-e63eec1ca424"
      },
      "outputs": [
        {
          "name": "stdout",
          "output_type": "stream",
          "text": [
            "Hello/True/8.5/21\n",
            "\n",
            "\n",
            "Python;True;8.5;21\n"
          ]
        }
      ],
      "source": [
        "print('Hello',True,8.5,21,sep='/')\n",
        "print('\\n')\n",
        "print('Python',True,8.5,21,sep=';')"
      ]
    },
    {
      "cell_type": "markdown",
      "metadata": {
        "id": "LOWeV4o3Zn04"
      },
      "source": [
        "**`end` – What to print at the end (default is \\n for new line)**"
      ]
    },
    {
      "cell_type": "code",
      "execution_count": null,
      "metadata": {
        "colab": {
          "base_uri": "https://localhost:8080/"
        },
        "id": "RzRUSrPHG_k3",
        "outputId": "6dda201c-2296-4c30-e8cd-9d7fa96acb56"
      },
      "outputs": [
        {
          "name": "stdout",
          "output_type": "stream",
          "text": [
            "Hello,Kaise ho app\n"
          ]
        }
      ],
      "source": [
        "print('Hello',end=',')\n",
        "print('Kaise ho app')"
      ]
    },
    {
      "cell_type": "markdown",
      "metadata": {
        "id": "vry96-BSPo4X"
      },
      "source": [
        "## 2) **`Data Types`**\n",
        "\n",
        "A data type is a way to classify the kind of value a variable holds, such as a number, text, or list, so Python knows how to work with it.\n",
        "\n",
        "**Simple Analogy**\n",
        "\n",
        "* Think of data types like labels on boxes:\n",
        "\n",
        "* One box says \"number\" (for ages)\n",
        "\n",
        "* Another says \"text\" (for names)\n",
        "\n",
        "* Another says \"True/False\" (for yes/no questions)\n",
        "\n",
        "Python uses data types to choose the right box for each kind of data.\n",
        "\n",
        "\n",
        "###  Python Data Types Table\n",
        "\n",
        "| **Data Type** | **Definition**                               | **Example**                  |\n",
        "|---------------|-----------------------------------------------|------------------------------|\n",
        "| `int`         | Whole number (no decimal)                    | `10`, `-5`                   |\n",
        "| `float`       | Number with decimal                          | `3.14`, `-0.01`              |\n",
        "| `str`         | Sequence of characters (text)                | `\"Hello\"`, `'123abc'`        |\n",
        "| `bool`        | Logical value: True or False                 | `True`, `False`              |\n",
        "| `list`        | Ordered, changeable collection               | `[1, 2, 3]`, `[\"a\", \"b\"]`     |\n",
        "| `tuple`       | Ordered, unchangeable collection             | `(10, 20)`, `(\"x\", \"y\")`     |\n",
        "| `dict`        | Collection of key-value pairs                | `{\"name\": \"Amit\"}`           |\n",
        "| `set`         | Unordered collection of unique items         | `{1, 2, 3}`, `{\"a\", \"b\"}`     |\n"
      ]
    },
    {
      "cell_type": "markdown",
      "metadata": {
        "id": "695KjBenPyE6"
      },
      "source": [
        "### `Int`\n",
        "\n",
        "An integer is a whole number — it has no decimal point.\n",
        "\n",
        "* Examples: -3, 0, 5, 999, 1000000\n",
        "\n",
        "* In Python, integers belong to the `int` data type.\n",
        "\n",
        "\n"
      ]
    },
    {
      "cell_type": "code",
      "execution_count": null,
      "metadata": {
        "colab": {
          "base_uri": "https://localhost:8080/"
        },
        "id": "WujII-DMtD0j",
        "outputId": "eee97822-8e50-4c01-d14e-52dc5a1d7aea"
      },
      "outputs": [
        {
          "name": "stdout",
          "output_type": "stream",
          "text": [
            "21\n"
          ]
        }
      ],
      "source": [
        "print(21)"
      ]
    },
    {
      "cell_type": "code",
      "execution_count": null,
      "metadata": {
        "colab": {
          "base_uri": "https://localhost:8080/"
        },
        "id": "MTYQnzgwPucZ",
        "outputId": "cde25654-2c21-47de-9534-6f170ae91eb9"
      },
      "outputs": [
        {
          "name": "stdout",
          "output_type": "stream",
          "text": [
            "31\n"
          ]
        }
      ],
      "source": [
        "a = 34\n",
        "b = -3\n",
        "print(a+b)"
      ]
    },
    {
      "cell_type": "markdown",
      "metadata": {
        "id": "IoQquUeOuYkr"
      },
      "source": [
        "**To check the type**"
      ]
    },
    {
      "cell_type": "code",
      "execution_count": null,
      "metadata": {
        "colab": {
          "base_uri": "https://localhost:8080/"
        },
        "id": "b3Pf_2FtuWZ5",
        "outputId": "91dddd7d-eaa7-41ab-a7fe-2b2044e0ab22"
      },
      "outputs": [
        {
          "name": "stdout",
          "output_type": "stream",
          "text": [
            "<class 'int'>\n"
          ]
        }
      ],
      "source": [
        "a = 10\n",
        "print(type(a))"
      ]
    },
    {
      "cell_type": "markdown",
      "metadata": {
        "id": "4_54XDtAxzM4"
      },
      "source": [
        "**Converting to int**\n",
        "\n",
        "We use `int( )`"
      ]
    },
    {
      "cell_type": "code",
      "execution_count": null,
      "metadata": {
        "colab": {
          "base_uri": "https://localhost:8080/"
        },
        "id": "Uv1EBoa6yzdp",
        "outputId": "45d09c8a-a7a1-4342-b275-e0970d8937fc"
      },
      "outputs": [
        {
          "name": "stdout",
          "output_type": "stream",
          "text": [
            "<class 'float'>\n",
            "12\n"
          ]
        }
      ],
      "source": [
        "a = 12.4\n",
        "print(type(a))\n",
        "print(int(a))"
      ]
    },
    {
      "cell_type": "markdown",
      "metadata": {
        "id": "qirJ2if1t3vP"
      },
      "source": [
        "**Note : No limit on integer size (unlike some languages)**"
      ]
    },
    {
      "cell_type": "code",
      "execution_count": null,
      "metadata": {
        "colab": {
          "base_uri": "https://localhost:8080/"
        },
        "id": "tRDnivN3t3bv",
        "outputId": "bce1649a-e521-4d9d-e087-cfc8fa4f30e9"
      },
      "outputs": [
        {
          "name": "stdout",
          "output_type": "stream",
          "text": [
            "99999999999999999999999999999999999999\n"
          ]
        }
      ],
      "source": [
        "big = 99999999999999999999999999999999999999\n",
        "print(big)"
      ]
    },
    {
      "cell_type": "markdown",
      "metadata": {
        "id": "5WnozSLCvXGX"
      },
      "source": [
        "### `Float`\n",
        "\n",
        "A float is a number that has a decimal point.\n",
        "\n",
        "* Examples: 3.14, -1.5, 0.0, 99.99\n",
        "\n",
        "* In Python, float numbers belong to the `float` data type"
      ]
    },
    {
      "cell_type": "code",
      "execution_count": null,
      "metadata": {
        "colab": {
          "base_uri": "https://localhost:8080/"
        },
        "id": "ymPxefMHumHt",
        "outputId": "7e507adf-7a3b-4945-c3f0-beb1012a70c3"
      },
      "outputs": [
        {
          "name": "stdout",
          "output_type": "stream",
          "text": [
            "4.555\n"
          ]
        }
      ],
      "source": [
        "print(4.555)"
      ]
    },
    {
      "cell_type": "code",
      "execution_count": null,
      "metadata": {
        "colab": {
          "base_uri": "https://localhost:8080/"
        },
        "id": "6O4yl5UBwJER",
        "outputId": "2ed9dad6-4987-409b-906b-4c4b02b14bc8"
      },
      "outputs": [
        {
          "name": "stdout",
          "output_type": "stream",
          "text": [
            "2.5555\n"
          ]
        }
      ],
      "source": [
        "b = 2.5555\n",
        "print(b)"
      ]
    },
    {
      "cell_type": "markdown",
      "metadata": {
        "id": "Y4-805YpweBV"
      },
      "source": [
        "**Checking the type**"
      ]
    },
    {
      "cell_type": "code",
      "execution_count": null,
      "metadata": {
        "colab": {
          "base_uri": "https://localhost:8080/"
        },
        "id": "QWXpO76NwdxY",
        "outputId": "a9d6c907-d14d-44e5-dd53-682061d4725e"
      },
      "outputs": [
        {
          "name": "stdout",
          "output_type": "stream",
          "text": [
            "<class 'float'>\n"
          ]
        }
      ],
      "source": [
        "print(type(b))"
      ]
    },
    {
      "cell_type": "markdown",
      "metadata": {
        "id": "4lNGRrLjwkIr"
      },
      "source": [
        "**Coverting to float**\n",
        "\n",
        "we use `float( )`"
      ]
    },
    {
      "cell_type": "code",
      "execution_count": null,
      "metadata": {
        "colab": {
          "base_uri": "https://localhost:8080/"
        },
        "id": "LWt3cunFw1cc",
        "outputId": "938ca95b-f041-4835-d7da-da966dadc6e9"
      },
      "outputs": [
        {
          "name": "stdout",
          "output_type": "stream",
          "text": [
            "<class 'str'>\n",
            "2.4\n"
          ]
        }
      ],
      "source": [
        "a = '2.4' # text (string)\n",
        "print(type(a))\n",
        "print(float(a)) # converted to float"
      ]
    },
    {
      "cell_type": "markdown",
      "metadata": {
        "id": "Ug_IGfqvzIbr"
      },
      "source": [
        "### `Boolean`\n",
        "\n",
        "A Boolean represents only two possible values:\n",
        "* True\n",
        "* False\n",
        "\n",
        "Think of a light switch:\n",
        "\n",
        "💡 ON → True\n",
        "\n",
        "💡 OFF → False\n",
        "\n",
        "`Booleans are mostly used in conditions and decisions`"
      ]
    },
    {
      "cell_type": "code",
      "execution_count": null,
      "metadata": {
        "colab": {
          "base_uri": "https://localhost:8080/"
        },
        "id": "M5QLN9_Mxbo1",
        "outputId": "5e016637-361d-429b-c80c-f0a6e2959fb1"
      },
      "outputs": [
        {
          "name": "stdout",
          "output_type": "stream",
          "text": [
            "True\n",
            "False\n"
          ]
        }
      ],
      "source": [
        "is_pass = True\n",
        "is_fail = False\n",
        "\n",
        "print(is_pass)\n",
        "print(is_fail)"
      ]
    },
    {
      "cell_type": "markdown",
      "metadata": {
        "id": "PiRa8Zs40lK6"
      },
      "source": [
        "**Use Cases**"
      ]
    },
    {
      "cell_type": "code",
      "execution_count": null,
      "metadata": {
        "colab": {
          "base_uri": "https://localhost:8080/"
        },
        "id": "jbZ7DJXG03ST",
        "outputId": "d1ddd711-c99c-4e04-bb49-c1421353677b"
      },
      "outputs": [
        {
          "name": "stdout",
          "output_type": "stream",
          "text": [
            "True\n"
          ]
        }
      ],
      "source": [
        "age = 18\n",
        "print(age >= 18)"
      ]
    },
    {
      "cell_type": "markdown",
      "metadata": {
        "id": "R-9QqVFU1RI3"
      },
      "source": [
        "**Converting to boolean**\n",
        "\n",
        "We use `bool( )`"
      ]
    },
    {
      "cell_type": "code",
      "execution_count": null,
      "metadata": {
        "colab": {
          "base_uri": "https://localhost:8080/"
        },
        "id": "Q3nAOpQs1D6V",
        "outputId": "445d6add-ee23-47de-87a3-3f66919e7687"
      },
      "outputs": [
        {
          "data": {
            "text/plain": [
              "True"
            ]
          },
          "execution_count": 17,
          "metadata": {},
          "output_type": "execute_result"
        }
      ],
      "source": [
        "bool(0)         # False\n",
        "bool(1)         # True\n",
        "bool(\"\")        # False\n",
        "bool(\"hello\")   # True\n",
        "bool([])        # False\n",
        "bool([1, 2])    # True"
      ]
    },
    {
      "cell_type": "markdown",
      "metadata": {
        "id": "0hphBTlU2fk1"
      },
      "source": [
        "### `String Data Type`\n",
        "\n",
        "A string is a sequence of characters — anything inside quotes (single ' ' or double \" \")\n",
        "\n",
        "Examples: \"hello\", 'Python123', \"123\", \"!\"\n",
        "\n",
        "`Yes, even numbers inside quotes are considered strings, not numbers!`\n",
        "\n"
      ]
    },
    {
      "cell_type": "markdown",
      "metadata": {
        "id": "z5LJvmJgViSp"
      },
      "source": [
        "**Creating the string**"
      ]
    },
    {
      "cell_type": "code",
      "execution_count": null,
      "metadata": {
        "colab": {
          "base_uri": "https://localhost:8080/"
        },
        "id": "gU8O0pZA1dMO",
        "outputId": "c389c337-64b7-4fe2-c638-e2925d8f7884"
      },
      "outputs": [
        {
          "name": "stdout",
          "output_type": "stream",
          "text": [
            "Kisan\n",
            "Hello\n"
          ]
        }
      ],
      "source": [
        "name = 'Kisan'\n",
        "greeting = 'Hello'\n",
        "print(name)\n",
        "print(greeting)"
      ]
    },
    {
      "cell_type": "markdown",
      "metadata": {
        "id": "udaaA4MyWEno"
      },
      "source": [
        "**Multi Line String**\n",
        "\n",
        "`We use '''triple quotes''' for multi line`"
      ]
    },
    {
      "cell_type": "code",
      "execution_count": null,
      "metadata": {
        "colab": {
          "base_uri": "https://localhost:8080/"
        },
        "id": "lk9OLoLXWWCI",
        "outputId": "c71f9cbc-2b78-46d4-9cdf-9dba0dd1fc9b"
      },
      "outputs": [
        {
          "name": "stdout",
          "output_type": "stream",
          "text": [
            "This is \n",
            "multi \n",
            "line string\n",
            "\n"
          ]
        }
      ],
      "source": [
        "text = '''This is\n",
        "multi\n",
        "line string\n",
        "'''\n",
        "print(text)"
      ]
    },
    {
      "cell_type": "markdown",
      "metadata": {
        "id": "I793_JvPWpuN"
      },
      "source": [
        "### `Complex Numbers`\n",
        "\n",
        "A complex number has two parts:\n",
        "\n",
        "Real part (like 2)\n",
        "\n",
        "Imaginary part (like 3j)"
      ]
    },
    {
      "cell_type": "markdown",
      "metadata": {
        "id": "l53JlHq4Ytg7"
      },
      "source": [
        "`In Python, a complex number is written as`\n",
        "\n",
        "`a + bj`"
      ]
    },
    {
      "cell_type": "markdown",
      "metadata": {
        "id": "TLUPRMdBX2NR"
      },
      "source": [
        "Where:\n",
        "\n",
        "a = real part (a float or int)\n",
        "\n",
        "b = imaginary part (with j, not i like in math)\n",
        "\n",
        "Example : 3 + 4j"
      ]
    },
    {
      "cell_type": "code",
      "execution_count": null,
      "metadata": {
        "colab": {
          "base_uri": "https://localhost:8080/"
        },
        "id": "-DFPXC08YOQI",
        "outputId": "3ffc9964-ee59-408c-f22f-0a79a8ef4e41"
      },
      "outputs": [
        {
          "name": "stdout",
          "output_type": "stream",
          "text": [
            "<class 'complex'>\n",
            "(3+4j)\n"
          ]
        }
      ],
      "source": [
        "z = 3 + 4j\n",
        "print(type(z))\n",
        "print(z)"
      ]
    },
    {
      "cell_type": "markdown",
      "metadata": {
        "id": "gsgBIRuNZQKK"
      },
      "source": [
        "### `Lists`\n",
        "\n",
        "A list is an ordered collection of items, where you can:\n",
        "\n",
        "* Store multiple values\n",
        "\n",
        "* Change, add, or remove items\n",
        "\n",
        "* Mix different data types\n",
        "\n",
        "`A list is written in square brackets [ ], with items separated by commas`"
      ]
    },
    {
      "cell_type": "markdown",
      "metadata": {
        "id": "6sqYEllOauQe"
      },
      "source": [
        "**Creating and printing the list**"
      ]
    },
    {
      "cell_type": "code",
      "execution_count": null,
      "metadata": {
        "colab": {
          "base_uri": "https://localhost:8080/"
        },
        "id": "7NrNlPxNZPkH",
        "outputId": "4540b073-91fa-4445-d59a-3f43379135e1"
      },
      "outputs": [
        {
          "name": "stdout",
          "output_type": "stream",
          "text": [
            "[1, 2, 3, 4, 5]\n",
            "<class 'list'>\n"
          ]
        }
      ],
      "source": [
        "numbers = [1,2,3,4,5]\n",
        "\n",
        "print(numbers)\n",
        "\n",
        "print(type(numbers))"
      ]
    },
    {
      "cell_type": "markdown",
      "metadata": {
        "id": "K-iio-S_b2T9"
      },
      "source": [
        "### `Tuples`\n",
        "\n",
        "A tuple is an ordered collection of items, just like a list, but with one big difference:\n",
        "\n",
        "Tuples are immutable — meaning once created, you cannot change them.\n",
        "\n",
        "`Tuples use round brackets (), and items are separated by commas`"
      ]
    },
    {
      "cell_type": "markdown",
      "metadata": {
        "id": "w1zELCDoch6R"
      },
      "source": [
        "**Creating and printing tuple**"
      ]
    },
    {
      "cell_type": "code",
      "execution_count": null,
      "metadata": {
        "colab": {
          "base_uri": "https://localhost:8080/"
        },
        "id": "83gN4rMDbL3d",
        "outputId": "793d738b-b5b7-4792-dc36-d799df6dc269"
      },
      "outputs": [
        {
          "name": "stdout",
          "output_type": "stream",
          "text": [
            "(1, 2, 3)\n",
            "<class 'tuple'>\n"
          ]
        }
      ],
      "source": [
        "t = (1, 2, 3)\n",
        "print(t)\n",
        "print(type(t))"
      ]
    },
    {
      "cell_type": "markdown",
      "metadata": {
        "id": "lXAMbBG5dfIC"
      },
      "source": [
        "### `Dictionary`\n",
        "\n",
        "A dictionary is a collection of `key-value pairs`.\n",
        "\n",
        "Just like a real dictionary maps a word (key) to its meaning (value),a Python dictionary maps a key to a value"
      ]
    },
    {
      "cell_type": "markdown",
      "metadata": {
        "id": "km6rBQugd7ZZ"
      },
      "source": [
        "**Creating and accessing the list**"
      ]
    },
    {
      "cell_type": "code",
      "execution_count": null,
      "metadata": {
        "colab": {
          "base_uri": "https://localhost:8080/"
        },
        "id": "JMMhBAD3f5n3",
        "outputId": "85424b64-87ee-4558-fcb9-b28244535d6c"
      },
      "outputs": [
        {
          "name": "stdout",
          "output_type": "stream",
          "text": [
            "{'name': 'Shubham', 'age': 21}\n",
            "Shubham\n"
          ]
        }
      ],
      "source": [
        "person = {\n",
        "    'name':'Shubham',\n",
        "    'age':21\n",
        "}\n",
        "print(person)\n",
        "print(person['name'])"
      ]
    },
    {
      "cell_type": "markdown",
      "metadata": {
        "id": "IxPfMd-WhHQX"
      },
      "source": [
        "### `Sets`\n",
        "\n",
        "A set is an unordered collection of unique items — no duplicates allowed.\n",
        "\n",
        "A set is like a mathematical set: {1, 2, 3}"
      ]
    },
    {
      "cell_type": "code",
      "execution_count": null,
      "metadata": {
        "colab": {
          "base_uri": "https://localhost:8080/"
        },
        "id": "ru0qfVAFf7bw",
        "outputId": "950c407c-8b77-4bfb-e8c6-b519bd3f5411"
      },
      "outputs": [
        {
          "name": "stdout",
          "output_type": "stream",
          "text": [
            "{1, 2, 3}\n"
          ]
        }
      ],
      "source": [
        "num = {1,2,3}\n",
        "print(num)"
      ]
    },
    {
      "cell_type": "markdown",
      "metadata": {
        "id": "RoO8B__3isHf"
      },
      "source": [
        "## 3) `Variables`\n",
        "\n",
        "**A variable is a name that refers to a value stored in memory**\n",
        "\n",
        "**Think of variables like stickers on jars:**\n",
        "\n",
        "One jar has sugar, another has salt.\n",
        "\n",
        "You label them:\n",
        "* sugar_jar = \"sugar\"\n",
        "\n",
        "* salt_jar = \"salt\"\n",
        "\n",
        "You can change the sticker later\n",
        "\n",
        "***\n",
        "\n",
        "**`Variable Rules in Python`**\n",
        "\n",
        "1. Start with a letter or _ (not a number)\n",
        "\n",
        "2. Can contain letters, numbers, and underscores\n",
        "\n",
        "3. Case-sensitive (name ≠ Name)\n",
        "\n",
        "4. Cannot be Python keywords (like if, class, etc.)"
      ]
    },
    {
      "cell_type": "markdown",
      "metadata": {
        "id": "8qEH3_4_yGsm"
      },
      "source": [
        "**Example**"
      ]
    },
    {
      "cell_type": "code",
      "execution_count": null,
      "metadata": {
        "id": "8EVqdIB4iwO0"
      },
      "outputs": [],
      "source": [
        "name = \"Fake Coder\"\n",
        "age = 21\n",
        "height = 5.8"
      ]
    },
    {
      "cell_type": "markdown",
      "metadata": {
        "id": "-_2sQNII0CGu"
      },
      "source": [
        "### `Important Topics : Typing and Binding`\n",
        "\n",
        "**`What is Typing ?`**\n",
        "\n",
        "Typing refers to how a programming language handles data types (like int, str, float, etc.) during coding and execution\n",
        "\n",
        "**`Static Typing`**\n",
        "\n",
        "In statically typed languages, you must declare the data type of every variable when you write the code\n",
        "\n",
        "\n",
        "\n"
      ]
    },
    {
      "cell_type": "markdown",
      "metadata": {
        "id": "k1VNYvGX1bo8"
      },
      "source": [
        "**Example**"
      ]
    },
    {
      "cell_type": "code",
      "execution_count": null,
      "metadata": {
        "id": "2-S9RlxVyYzG"
      },
      "outputs": [],
      "source": [
        "# int age = 21\n",
        "# String name = \"Fake Coder\""
      ]
    },
    {
      "cell_type": "markdown",
      "metadata": {
        "id": "R00ewva81q8n"
      },
      "source": [
        "* Advantages:\n",
        "\n",
        " * Errors are caught before running (during compilation)\n",
        "\n",
        " * More predictable\n",
        "\n",
        " * Better for large, strict projects"
      ]
    },
    {
      "cell_type": "markdown",
      "metadata": {
        "id": "v4I_n3el2H2C"
      },
      "source": [
        "**`Dynamic Typing`**\n",
        "\n",
        "In dynamically typed languages, you don't declare types — the interpreter figures them out at runtime\n",
        "\n"
      ]
    },
    {
      "cell_type": "markdown",
      "metadata": {
        "id": "YOh6XMOg3D9p"
      },
      "source": [
        "**Example**"
      ]
    },
    {
      "cell_type": "code",
      "execution_count": null,
      "metadata": {
        "id": "LR48N9IX2AXh"
      },
      "outputs": [],
      "source": [
        "x = 10\n",
        "x = 'String'"
      ]
    },
    {
      "cell_type": "markdown",
      "metadata": {
        "id": "xzz8n8dy3blS"
      },
      "source": [
        "* **Advantages**\n",
        "\n",
        "  * Type changes automatically\n",
        "\n",
        "  * Easier and faster to write"
      ]
    },
    {
      "cell_type": "markdown",
      "metadata": {
        "id": "-sfOrBf-4ddw"
      },
      "source": [
        " * **Disadvantages**\n",
        "\n",
        "   * Errors happen at runtime, not while writing\n",
        "\n",
        "   * Bugs may go unnoticed in big programs"
      ]
    },
    {
      "cell_type": "markdown",
      "metadata": {
        "id": "NHuvINL56gJf"
      },
      "source": [
        "***\n",
        "\n",
        "**`Static Binding (also called Early Binding)`**\n",
        "\n",
        "Static Binding is when the type of object or method is determined by the compiler at compile time\n",
        "\n",
        "* The function or method to be called is fixed before the program runs.\n",
        "\n",
        "  Used for:\n",
        "\n",
        "    * Variables\n",
        "\n",
        "    * Functions\n",
        "\n",
        "    * Method Overloading\n",
        "\n",
        "* Common in C++, Java, C# (statically typed languages)\n"
      ]
    },
    {
      "cell_type": "markdown",
      "metadata": {
        "id": "onqVRAw_82d9"
      },
      "source": [
        "**Example**"
      ]
    },
    {
      "cell_type": "code",
      "execution_count": null,
      "metadata": {
        "id": "Wxh__Dpc80RA"
      },
      "outputs": [],
      "source": [
        "# int x = 10;        x is statically bound to type int\n",
        "\n",
        "# x = \"hello\";       Error! You can't change type from int to String"
      ]
    },
    {
      "cell_type": "markdown",
      "metadata": {
        "id": "rblEc_9F-Iqj"
      },
      "source": [
        "**`Dynamic Binding (also called Late Binding)`**\n",
        "\n",
        "Dynamic Binding is when the method or variable reference is resolved at runtime, based on the actual object\n",
        "\n",
        "* Typically happens in inheritance and polymorphism with method overriding\n",
        "\n",
        "* The compiler does not know which method will be executed — it's decided during execution"
      ]
    },
    {
      "cell_type": "markdown",
      "metadata": {
        "id": "0CgPdfHH-KqK"
      },
      "source": [
        "**Example**"
      ]
    },
    {
      "cell_type": "code",
      "execution_count": null,
      "metadata": {
        "id": "BG7TlLo3-Mmq"
      },
      "outputs": [],
      "source": [
        "x = 10          # x is int now\n",
        "x = \"hello\"     # Now x is str — allowed!"
      ]
    },
    {
      "cell_type": "markdown",
      "metadata": {
        "id": "JZy9nv1Q8fbG"
      },
      "source": [
        "**Python always uses dynamic binding because**\n",
        "\n",
        "* It’s dynamically typed\n",
        "\n",
        "* Method and variable lookups happen at runtime"
      ]
    },
    {
      "cell_type": "code",
      "execution_count": null,
      "metadata": {
        "colab": {
          "base_uri": "https://localhost:8080/"
        },
        "id": "lORqmuvl3tcT",
        "outputId": "e22d816f-bce1-45e1-aff9-2a1435b183b3"
      },
      "outputs": [
        {
          "name": "stdout",
          "output_type": "stream",
          "text": [
            "5\n",
            "Fake Coder\n"
          ]
        }
      ],
      "source": [
        "a = 5\n",
        "print(a)\n",
        "\n",
        "a = 'Fake Coder'\n",
        "print(a)\n",
        "\n",
        "# Both will print"
      ]
    },
    {
      "cell_type": "markdown",
      "metadata": {
        "id": "nWBjM3ZtAzla"
      },
      "source": [
        "**Different way of creating variables**"
      ]
    },
    {
      "cell_type": "code",
      "execution_count": null,
      "metadata": {
        "colab": {
          "base_uri": "https://localhost:8080/"
        },
        "id": "wux1uWANBASZ",
        "outputId": "41f1c019-11a5-4fa9-be7e-5259cc1d046b"
      },
      "outputs": [
        {
          "name": "stdout",
          "output_type": "stream",
          "text": [
            "1 2 3\n"
          ]
        }
      ],
      "source": [
        "a, b, c = 1,2,3\n",
        "print(a,b,c)"
      ]
    },
    {
      "cell_type": "code",
      "execution_count": null,
      "metadata": {
        "colab": {
          "base_uri": "https://localhost:8080/"
        },
        "id": "M4osORI8BPBY",
        "outputId": "294131ca-8d5e-4c24-caf5-9b856bab7125"
      },
      "outputs": [
        {
          "name": "stdout",
          "output_type": "stream",
          "text": [
            "5 5 5\n"
          ]
        }
      ],
      "source": [
        "a = b = c = 5\n",
        "print(a,b,c )"
      ]
    },
    {
      "cell_type": "markdown",
      "metadata": {
        "id": "2mjHOZbMB3Py"
      },
      "source": [
        "## 4) `Keywords & Identifiers`\n",
        "\n",
        "**`Keywords`**\n",
        "\n",
        "Keywords are reserved words that have special meaning in Python.\n",
        "You cannot use them as variable names, function names, or identifiers\n",
        "\n",
        "Python uses them to define syntax and structure of the code\n"
      ]
    },
    {
      "cell_type": "markdown",
      "metadata": {
        "id": "Mh1nFNh8GWJd"
      },
      "source": [
        "| Type       | Examples                                                 |\n",
        "| ---------- | -------------------------------------------------------- |\n",
        "| Control    | `if`, `else`, `elif`, `for`, `while`                     |\n",
        "| Functions  | `def`, `return`, `lambda`                                |\n",
        "| Classes    | `class`, `super`                                         |\n",
        "| Logic      | `True`, `False`, `None`                                  |\n",
        "| Exceptions | `try`, `except`, `raise`, `finally`                      |\n",
        "| Imports    | `import`, `from`, `as`                                   |\n",
        "| Others     | `and`, `or`, `not`, `in`, `is`, `global`, `pass`, `with` |\n"
      ]
    },
    {
      "cell_type": "markdown",
      "metadata": {
        "id": "WXaHQ9BmDjiO"
      },
      "source": [
        "**You can see all Python keywords using**"
      ]
    },
    {
      "cell_type": "code",
      "execution_count": null,
      "metadata": {
        "colab": {
          "base_uri": "https://localhost:8080/"
        },
        "id": "sNlvFv2aDmec",
        "outputId": "fcb362d6-a6be-4de6-f676-a20ecc8d1afa"
      },
      "outputs": [
        {
          "name": "stdout",
          "output_type": "stream",
          "text": [
            "['False', 'None', 'True', 'and', 'as', 'assert', 'async', 'await', 'break', 'class', 'continue', 'def', 'del', 'elif', 'else', 'except', 'finally', 'for', 'from', 'global', 'if', 'import', 'in', 'is', 'lambda', 'nonlocal', 'not', 'or', 'pass', 'raise', 'return', 'try', 'while', 'with', 'yield']\n"
          ]
        }
      ],
      "source": [
        "import keyword\n",
        "print(keyword.kwlist)"
      ]
    },
    {
      "cell_type": "markdown",
      "metadata": {
        "id": "ddEtGIjBD4Bf"
      },
      "source": [
        "**We Can't do this**"
      ]
    },
    {
      "cell_type": "code",
      "execution_count": null,
      "metadata": {
        "id": "UokouXbJD_rf"
      },
      "outputs": [],
      "source": [
        "#def = 4  # It will throw an syntax error"
      ]
    },
    {
      "cell_type": "markdown",
      "metadata": {
        "id": "kymOVUi5EawZ"
      },
      "source": [
        "**`Identifiers`**\n",
        "\n",
        "Identifiers are names used to identify variables, functions, classes, etc. that you create.\n",
        "\n",
        "They are the names you choose in your code"
      ]
    },
    {
      "cell_type": "markdown",
      "metadata": {
        "id": "She3klxcFhGO"
      },
      "source": [
        "**Rules of writing identifiers**\n",
        "\n",
        "| Rule                                             | Example                   |\n",
        "| ------------------------------------------------ | ------------------------- |\n",
        "| Can contain **letters, digits, and underscores** | `my_name`, `a1`, `user_2` |\n",
        "| Cannot start with a digit                        | `1name` ❌                 |\n",
        "| Cannot use keywords                              | `if`, `def` ❌             |\n",
        "| Are **case-sensitive**                           | `age` ≠ `Age`             |\n"
      ]
    },
    {
      "cell_type": "code",
      "execution_count": null,
      "metadata": {
        "id": "V-hYOqcYEMpH"
      },
      "outputs": [],
      "source": [
        "name = \"Amit\"            # 'name' is an identifier\n",
        "def greet(): ...         # 'greet' is an identifier\n",
        "class Student: ...       # 'Student' is an identifier"
      ]
    },
    {
      "cell_type": "markdown",
      "metadata": {
        "id": "hOoIJAh2K6WY"
      },
      "source": [
        "## 5) `Type Conversion`\n",
        "\n",
        "Type conversion means changing a value from one data type to another\n",
        "\n",
        "For example: changing a string \"123\" to an integer 123\n",
        "\n",
        "**`There are two types`**\n",
        "\n",
        "| Type                    | Description                                                    |\n",
        "| ----------------------- | -------------------------------------------------------------- |\n",
        "| **Implicit Conversion** | Automatically done by Python                                   |\n",
        "| **Explicit Conversion** | Manually done by the programmer (also called **type casting**) |\n"
      ]
    },
    {
      "cell_type": "markdown",
      "metadata": {
        "id": "5g3k3AqKLoxT"
      },
      "source": [
        "**1. Implicit Type Conversion (Automatic)**\n",
        "\n",
        "Python automatically converts data types when needed"
      ]
    },
    {
      "cell_type": "code",
      "execution_count": null,
      "metadata": {
        "colab": {
          "base_uri": "https://localhost:8080/"
        },
        "id": "TgtE21eLL13z",
        "outputId": "33224711-56db-4153-93bd-ce1bd884d6a9"
      },
      "outputs": [
        {
          "name": "stdout",
          "output_type": "stream",
          "text": [
            "<class 'int'> <class 'float'>\n",
            "20.5\n",
            "<class 'float'>\n"
          ]
        }
      ],
      "source": [
        "a = 10\n",
        "b = 10.5\n",
        "\n",
        "print(type(a),type(b))\n",
        "sum = a + b\n",
        "print(sum)\n",
        "print(type(sum))"
      ]
    },
    {
      "cell_type": "markdown",
      "metadata": {
        "id": "dN3MOtRuMKZm"
      },
      "source": [
        "**2. Explicit Type Conversion (Manual)**\n",
        "\n",
        "You convert data types using type functions like int( ), float( ), str( ) etc"
      ]
    },
    {
      "cell_type": "code",
      "execution_count": null,
      "metadata": {
        "id": "0cBW9sguMafM"
      },
      "outputs": [],
      "source": [
        "# Converting str to int\n",
        "x = \"50\"\n",
        "y = int(x)     # Now y = 50 (int)\n",
        "\n",
        "# Converting int to float\n",
        "a = 5\n",
        "b = float(a)   # 5.0\n",
        "\n",
        "# Converting int to str\n",
        "num = 100\n",
        "text = str(num)   # \"100\""
      ]
    },
    {
      "cell_type": "markdown",
      "metadata": {
        "id": "zfb0x2QWNBf7"
      },
      "source": [
        "| From → To   | Code Example          | Result          |\n",
        "| ----------- | --------------------- | --------------- |\n",
        "| str → int   | `int(\"42\")`           | `42`            |\n",
        "| int → str   | `str(123)`            | `\"123\"`         |\n",
        "| float → int | `int(3.99)`           | `3` (no round)  |\n",
        "| int → float | `float(5)`            | `5.0`           |\n",
        "| any → bool  | `bool(\"\")`, `bool(0)` | `False`         |\n",
        "| list ↔ str  | `list(\"abc\")`         | `['a','b','c']` |\n"
      ]
    },
    {
      "cell_type": "markdown",
      "metadata": {
        "id": "9QwMe9FCGvrm"
      },
      "source": [
        "## 6) `User Input`\n",
        "\n",
        "**`input( )`**\n",
        "\n",
        "input() is a built-in Python function that takes input from the user as a string\n",
        "\n",
        "It pauses the program and waits for the user to type something and press Enter\n",
        "\n",
        "\n",
        "\n"
      ]
    },
    {
      "cell_type": "code",
      "execution_count": null,
      "metadata": {
        "colab": {
          "base_uri": "https://localhost:8080/"
        },
        "id": "us2_juA9FzuA",
        "outputId": "ceb17070-0a97-48f2-9879-b72601bd058c"
      },
      "outputs": [
        {
          "name": "stdout",
          "output_type": "stream",
          "text": [
            "What your name :Fake Coder\n",
            "Fake Coder\n"
          ]
        }
      ],
      "source": [
        "name = input(\"What your name :\")\n",
        "print(name)"
      ]
    },
    {
      "cell_type": "markdown",
      "metadata": {
        "id": "NhG_lZ2FH7TW"
      },
      "source": [
        "  \n",
        "  * The text inside the quotes is shown to the user as a prompt\n",
        "\n",
        "  * The value entered is stored in the variable as a string\n",
        "\n"
      ]
    },
    {
      "cell_type": "markdown",
      "metadata": {
        "id": "zrNz964bIPpc"
      },
      "source": [
        "**`Note : Even if the user types a number, it's stored as a string by default`**"
      ]
    },
    {
      "cell_type": "code",
      "execution_count": null,
      "metadata": {
        "colab": {
          "base_uri": "https://localhost:8080/"
        },
        "id": "zG28bezdIH-N",
        "outputId": "4f8af21f-d515-4b28-d7cd-b8718b854c17"
      },
      "outputs": [
        {
          "name": "stdout",
          "output_type": "stream",
          "text": [
            "Enter your age: 21\n",
            "21 <class 'str'>\n"
          ]
        }
      ],
      "source": [
        "age = input(\"Enter your age: \")\n",
        "print(age, type(age))"
      ]
    },
    {
      "cell_type": "markdown",
      "metadata": {
        "id": "6OFldgFyJJGV"
      },
      "source": [
        "**Type Conversion**"
      ]
    },
    {
      "cell_type": "markdown",
      "metadata": {
        "id": "FKjHfr5tIhLg"
      },
      "source": [
        "| Task                     | Code Example                            | Notes                  |\n",
        "| ------------------------ | --------------------------------------- | ---------------------- |\n",
        "| Take string input        | `name = input(\"Your name: \")`           | Always string          |\n",
        "| Take integer input       | `age = int(input(\"Your age: \"))`        | Convert to int         |\n",
        "| Take float input         | `price = float(input(\"Enter price: \"))` | Convert to float       |\n",
        "| Print input with message | `print(\"Hello\", name)`                  | Can combine with `f\"\"` |\n",
        "| Combine input and output | `print(f\"You are {age} years old.\")`    | f-string formatting    |\n"
      ]
    },
    {
      "cell_type": "code",
      "execution_count": null,
      "metadata": {
        "colab": {
          "base_uri": "https://localhost:8080/"
        },
        "id": "nJF3OhAYIo0z",
        "outputId": "1e31266a-bffd-47ad-fb51-1a5fe8818fb1"
      },
      "outputs": [
        {
          "name": "stdout",
          "output_type": "stream",
          "text": [
            "Enter your age: 21\n",
            "Enter value of pi: 3.14\n"
          ]
        }
      ],
      "source": [
        "age = int(input(\"Enter your age: \"))    # For whole numbers\n",
        "pi = float(input(\"Enter value of pi: \"))  # For decimal values"
      ]
    },
    {
      "cell_type": "markdown",
      "metadata": {
        "id": "bzbV53FsOQ2j"
      },
      "source": [
        "## 7) `Literals`\n",
        "\n",
        "A literal is a fixed value assigned to a variable directly in the code.\n",
        "It represents the actual data (not a variable or expression).\n",
        "\n",
        "In simple words:\n",
        " Literals are the actual values you type in your program"
      ]
    },
    {
      "cell_type": "markdown",
      "metadata": {
        "id": "CwSadAdkOvlH"
      },
      "source": [
        "**Example**"
      ]
    },
    {
      "cell_type": "code",
      "execution_count": null,
      "metadata": {
        "id": "lazC46tRI6H4"
      },
      "outputs": [],
      "source": [
        "x = 10         # 10 is an integer literal\n",
        "name = \"Amit\"  # \"Amit\" is a string literal\n",
        "pi = 3.14      # 3.14 is a float literal"
      ]
    },
    {
      "cell_type": "markdown",
      "metadata": {
        "id": "nhx9R8RDPw4t"
      },
      "source": [
        "## 8) `Operators`\n",
        "\n",
        "An operator is a symbol or keyword that performs an operation on one or more values (called operands)\n",
        "\n",
        "**`Types of Operators in Python`**\n",
        "\n",
        "| Category          | Description                       | Examples             |               |\n",
        "| ----------------- | --------------------------------- | -------------------- | ------------- |\n",
        "| **1. Arithmetic** | Math operations                   | `+`, `-`, `*`, `/`   |               |\n",
        "| **2. Assignment** | Assign values to variables        | `=`, `+=`, `*=`      |               |\n",
        "| **3. Comparison** | Compare two values                | `==`, `!=`, `>`, `<` |               |\n",
        "| **4. Logical**    | Combine conditions                | `and`, `or`, `not`   |               |\n",
        "| **5. Identity**   | Check if two objects are same     | `is`, `is not`       |               |\n",
        "| **6. Membership** | Check if value is in a collection | `in`, `not in`       |               |\n",
        "| **7. Bitwise**    | Operate on bits                   | `&`,\n"
      ]
    },
    {
      "cell_type": "markdown",
      "metadata": {
        "id": "_0_gkfUQQyBL"
      },
      "source": [
        "1. **`Arithmetic Operators`**\n",
        "\n",
        "| Operator | Meaning        | Example   | Output |\n",
        "| -------- | -------------- | --------- | ------ |\n",
        "| `+`      | Addition       | `3 + 2`   | `5`    |\n",
        "| `-`      | Subtraction    | `5 - 1`   | `4`    |\n",
        "| `*`      | Multiplication | `4 * 2`   | `8`    |\n",
        "| `/`      | Division       | `10 / 2`  | `5.0`  |\n",
        "| `//`     | Floor Division | `10 // 3` | `3`    |\n",
        "| `%`      | Modulus        | `10 % 3`  | `1`    |\n",
        "| `**`     | Exponentiation | `2 ** 3`  | `8`    |\n"
      ]
    },
    {
      "cell_type": "code",
      "execution_count": null,
      "metadata": {
        "colab": {
          "base_uri": "https://localhost:8080/"
        },
        "id": "3GP5eJS1Pwev",
        "outputId": "895f93ab-9c71-445a-b6a2-ccaedbb27c35"
      },
      "outputs": [
        {
          "name": "stdout",
          "output_type": "stream",
          "text": [
            "Addition:  30\n",
            "Subtraction:  10\n",
            "Multiplication:  200\n",
            "Division:  2.0\n",
            "Integer Division:  2\n",
            "Modulus:  0\n",
            "Exponentiation 400\n"
          ]
        }
      ],
      "source": [
        "a = 20\n",
        "b = 10\n",
        "\n",
        "print(\"Addition: \",a+b)\n",
        "\n",
        "print(\"Subtraction: \",a-b)\n",
        "\n",
        "print(\"Multiplication: \",a*b)\n",
        "\n",
        "print(\"Division: \",a/b)\n",
        "\n",
        "print(\"Integer Division: \",a//b) # floor divison or integer division\n",
        "\n",
        "print(\"Modulus: \",a%b)\n",
        "\n",
        "print(\"Exponentiation\",a**2)"
      ]
    },
    {
      "cell_type": "markdown",
      "metadata": {
        "id": "_ZM1t_5KRGFH"
      },
      "source": [
        "2. **`Assignment Operators`**\n",
        "\n",
        "| Operator | Meaning             | Example  |\n",
        "| -------- | ------------------- | -------- |\n",
        "| `=`      | Assign value        | `x = 5`  |\n",
        "| `+=`     | Add and assign      | `x += 3` |\n",
        "| `-=`     | Subtract and assign | `x -= 2` |\n",
        "| `*=`     | Multiply and assign | `x *= 4` |\n",
        "| `/=`     | Divide and assign   | `x /= 2` |\n"
      ]
    },
    {
      "cell_type": "code",
      "execution_count": null,
      "metadata": {
        "colab": {
          "base_uri": "https://localhost:8080/"
        },
        "id": "X4VRx5lxRQu2",
        "outputId": "3aa646d1-4777-4f99-e392-5cbc0875f684"
      },
      "outputs": [
        {
          "name": "stdout",
          "output_type": "stream",
          "text": [
            "12\n",
            "10\n",
            "30\n",
            "15.0\n"
          ]
        }
      ],
      "source": [
        "# Assign value\n",
        "\n",
        "d = 100\n",
        "\n",
        "a = 10\n",
        "\n",
        "a +=2\n",
        "print(a)\n",
        "\n",
        "a -= 2\n",
        "print(a)\n",
        "\n",
        "a*= 3\n",
        "print(a)\n",
        "\n",
        "a /=2\n",
        "print(a)\n"
      ]
    },
    {
      "cell_type": "markdown",
      "metadata": {
        "id": "BC20vVdrRRJG"
      },
      "source": [
        "3. **`Comparison (Relational) Operators`**\n",
        "\n",
        "| Operator | Meaning               | Example  | Output  |\n",
        "| -------- | --------------------- | -------- | ------- |\n",
        "| `==`     | Equal to              | `5 == 5` | `True`  |\n",
        "| `!=`     | Not equal to          | `5 != 3` | `True`  |\n",
        "| `>`      | Greater than          | `5 > 2`  | `True`  |\n",
        "| `<`      | Less than             | `3 < 7`  | `True`  |\n",
        "| `>=`     | Greater than or equal | `5 >= 5` | `True`  |\n",
        "| `<=`     | Less than or equal    | `2 <= 1` | `False` |\n"
      ]
    },
    {
      "cell_type": "code",
      "execution_count": null,
      "metadata": {
        "colab": {
          "base_uri": "https://localhost:8080/"
        },
        "id": "CDJji2WIRbmr",
        "outputId": "753608de-a27a-4363-ed91-1d72094d0813"
      },
      "outputs": [
        {
          "name": "stdout",
          "output_type": "stream",
          "text": [
            "a is equal to b:  False\n",
            "a is not equal to b:  True\n",
            "a is greater than b:  False\n",
            "a is less than b: True\n",
            "a is greater than = to b: False\n",
            "a is less than = to b True\n"
          ]
        }
      ],
      "source": [
        "a = 10\n",
        "b = 15\n",
        "\n",
        "print('a is equal to b: ',a == b)\n",
        "\n",
        "print('a is not equal to b: ',a!=b)\n",
        "\n",
        "print('a is greater than b: ',a > b)\n",
        "\n",
        "print('a is less than b:', a < b)\n",
        "\n",
        "print('a is greater than = to b:', a >= b)\n",
        "\n",
        "print('a is less than = to b', a <= b)"
      ]
    },
    {
      "cell_type": "markdown",
      "metadata": {
        "id": "IgZmTpNzRcCF"
      },
      "source": [
        "4. **`Logical Operators`**\n",
        "\n",
        "| Operator | Meaning         | Example          | Output  |\n",
        "| -------- | --------------- | ---------------- | ------- |\n",
        "| `and`    | Both conditions | `True and False` | `False` |\n",
        "| `or`     | At least one    | `True or False`  | `True`  |\n",
        "| `not`    | Reverse         | `not True`       | `False` |\n"
      ]
    },
    {
      "cell_type": "code",
      "execution_count": null,
      "metadata": {
        "colab": {
          "base_uri": "https://localhost:8080/"
        },
        "id": "6IBv63ktRoHc",
        "outputId": "c11c68e7-f36b-4cb9-e94d-fd62b0bd7529"
      },
      "outputs": [
        {
          "name": "stdout",
          "output_type": "stream",
          "text": [
            "and operator: 0\n",
            "or operator: 10\n",
            "not operator False\n"
          ]
        }
      ],
      "source": [
        "a = 10\n",
        "b = 0\n",
        "print(\"and operator:\", a and b)\n",
        "\n",
        "print(\"or operator:\", a or b)\n",
        "\n",
        "print(\"not operator\",not a)\n"
      ]
    },
    {
      "cell_type": "markdown",
      "metadata": {
        "id": "GGCDnZ3FRnET"
      },
      "source": [
        "5. **`Identity Operators`**\n",
        "\n",
        "| Operator | Meaning                   | Example      |\n",
        "| -------- | ------------------------- | ------------ |\n",
        "| `is`     | Same object (same memory) | `x is y`     |\n",
        "| `is not` | Not the same object       | `x is not y` |"
      ]
    },
    {
      "cell_type": "code",
      "execution_count": null,
      "metadata": {
        "colab": {
          "base_uri": "https://localhost:8080/"
        },
        "id": "c8tF8lzmR1QD",
        "outputId": "b4567c18-1872-449b-99d8-ad18aec923ac"
      },
      "outputs": [
        {
          "name": "stdout",
          "output_type": "stream",
          "text": [
            "True\n",
            "False\n"
          ]
        }
      ],
      "source": [
        "a = 10\n",
        "b = 10\n",
        "\n",
        "print(a is b)\n",
        "print(a is not b)"
      ]
    },
    {
      "cell_type": "markdown",
      "metadata": {
        "id": "XqSavRNKR1vh"
      },
      "source": [
        "6. **`Membership Operators`**\n",
        "\n",
        "| Operator | Meaning                  | Example              | Output |\n",
        "| -------- | ------------------------ | -------------------- | ------ |\n",
        "| `in`     | Value exists in sequence | `'a' in 'cat'`       | `True` |\n",
        "| `not in` | Value doesn't exist      | `5 not in [1, 2, 3]` | `True` |\n"
      ]
    },
    {
      "cell_type": "code",
      "execution_count": null,
      "metadata": {
        "colab": {
          "base_uri": "https://localhost:8080/"
        },
        "id": "fpRSVKk8R_XF",
        "outputId": "64173564-872c-4bcd-f523-702c8de3b0a8"
      },
      "outputs": [
        {
          "name": "stdout",
          "output_type": "stream",
          "text": [
            "True\n",
            "False\n"
          ]
        }
      ],
      "source": [
        "print( 'D' in 'Delhi')\n",
        "print( 'P' not in 'Pune')"
      ]
    },
    {
      "cell_type": "markdown",
      "metadata": {
        "id": "heILD3snSHIB"
      },
      "source": [
        "7. **`Bitwise Operators (Advanced)`**\n",
        "\n",
        "| Operator | Name        | Description                                         | Example  | Binary Operation                | Result |\n",
        "| -------- | ----------- | --------------------------------------------------- | -------- | ------------------------------- | ------ |\n",
        "| `&`      | AND         | 1 if **both** bits are 1                            | `5 & 3`  | `0101 & 0011 → 0001`            | `1`    |\n",
        "| `\\|`     | OR          | 1 if **at least one** bit is 1                      | `5 \\| 3` | `0101 \\| 0011 → 0111`           | `7`    |\n",
        "| `^`      | XOR         | 1 if bits are **different**                         | `5 ^ 3`  | `0101 ^ 0011 → 0110`            | `6`    |\n",
        "| `~`      | NOT         | Inverts all bits (`~x = -(x + 1)`)                  | `~5`     | `~00000101 → 11111010` (→ `-6`) | `-6`   |\n",
        "| `<<`     | Left Shift  | Shifts bits **left**, fills with 0s (× 2 per shift) | `5 << 1` | `0101 << 1 → 1010`              | `10`   |\n",
        "| `>>`     | Right Shift | Shifts bits **right**, discards rightmost bits      | `5 >> 1` | `0101 >> 1 → 0010`              | `2`    |\n"
      ]
    },
    {
      "cell_type": "code",
      "execution_count": null,
      "metadata": {
        "colab": {
          "base_uri": "https://localhost:8080/"
        },
        "id": "nGwymtBxSjRD",
        "outputId": "7d56c4e9-a069-4a46-cac2-541e2ac65eb3"
      },
      "outputs": [
        {
          "name": "stdout",
          "output_type": "stream",
          "text": [
            "2\n",
            "3\n",
            "1\n",
            "-3\n",
            "12\n",
            "2\n"
          ]
        }
      ],
      "source": [
        "# Not used more ( only used in some cases (for data science))\n",
        "\n",
        "print(2 & 3)\n",
        "\n",
        "print(2 | 3)\n",
        "\n",
        "print(2 ^ 3)\n",
        "\n",
        "print(~2)\n",
        "\n",
        "print(3 << 2)\n",
        "\n",
        "print(8 >> 2)"
      ]
    }
  ],
  "metadata": {
    "colab": {
      "provenance": []
    },
    "kernelspec": {
      "display_name": "Python 3",
      "name": "python3"
    },
    "language_info": {
      "name": "python"
    }
  },
  "nbformat": 4,
  "nbformat_minor": 0
}
