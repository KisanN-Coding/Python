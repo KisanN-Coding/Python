{
 "cells": [
  {
   "cell_type": "markdown",
   "id": "6c109887",
   "metadata": {},
   "source": [
    "## **Sets**\n",
    "\n",
    "**In Python, a set is an unordered collection of unique elements. It is used to store multiple items in a single variable without duplicates**\n",
    "\n",
    "**Key Features of Sets :**\n",
    "\n",
    "- Unordered → Elements have no index and no fixed order\n",
    "\n",
    "- Unique Elements → No duplicates allowed\n",
    "\n",
    "- Mutable → You can add or remove elements\n",
    "\n",
    "- Heterogeneous → Can store different data types (int, string, etc.)\n",
    "\n",
    "- No indexing or slicing → Because they are unordered\n",
    "\n",
    "**Important Points :**\n",
    "\n",
    "- You cannot store mutable objects like lists or dictionaries inside a set\n",
    "\n",
    "- Sets are faster than lists for checking membership (in keyword)"
   ]
  },
  {
   "cell_type": "markdown",
   "id": "bbe49b4d",
   "metadata": {},
   "source": [
    "#### **Creating sets**"
   ]
  },
  {
   "cell_type": "markdown",
   "id": "f229818b",
   "metadata": {},
   "source": [
    "empty set"
   ]
  },
  {
   "cell_type": "code",
   "execution_count": 3,
   "id": "4c1b6937",
   "metadata": {},
   "outputs": [
    {
     "name": "stdout",
     "output_type": "stream",
     "text": [
      "{}\n",
      "<class 'dict'>\n"
     ]
    }
   ],
   "source": [
    "s = {}\n",
    "print(s)\n",
    "print(type(s))"
   ]
  },
  {
   "cell_type": "code",
   "execution_count": 4,
   "id": "a112ecc9",
   "metadata": {},
   "outputs": [
    {
     "name": "stdout",
     "output_type": "stream",
     "text": [
      "set()\n",
      "<class 'set'>\n"
     ]
    }
   ],
   "source": [
    "# So to create an empty set\n",
    "s = set()\n",
    "print(s)\n",
    "print(type(s))"
   ]
  },
  {
   "cell_type": "markdown",
   "id": "6ab48872",
   "metadata": {},
   "source": [
    "1D Set"
   ]
  },
  {
   "cell_type": "code",
   "execution_count": 9,
   "id": "ffbad1e5",
   "metadata": {},
   "outputs": [
    {
     "name": "stdout",
     "output_type": "stream",
     "text": [
      "{1, 2, 3, 4, 5}\n",
      "<class 'set'>\n"
     ]
    }
   ],
   "source": [
    "s1 = {1,2,3,4,5}\n",
    "print(s1)\n",
    "print(type(s1))"
   ]
  },
  {
   "cell_type": "markdown",
   "id": "b04703d8",
   "metadata": {},
   "source": [
    "2D Set"
   ]
  },
  {
   "cell_type": "code",
   "execution_count": null,
   "id": "db11008a",
   "metadata": {},
   "outputs": [],
   "source": [
    "# We cannot create the 2D set"
   ]
  },
  {
   "cell_type": "markdown",
   "id": "c50a5b74",
   "metadata": {},
   "source": [
    "Heterogeneous Set"
   ]
  },
  {
   "cell_type": "code",
   "execution_count": 11,
   "id": "11a312c4",
   "metadata": {},
   "outputs": [
    {
     "name": "stdout",
     "output_type": "stream",
     "text": [
      "{1, 'hello', 3.4}\n"
     ]
    }
   ],
   "source": [
    "s = {1,3.4,'hello',True}\n",
    "print(s)\n",
    "\n",
    "# True is treated as one and double are not allowed , so True is not there in output"
   ]
  },
  {
   "cell_type": "markdown",
   "id": "bc8d4c42",
   "metadata": {},
   "source": [
    "Using type conversion"
   ]
  },
  {
   "cell_type": "code",
   "execution_count": 12,
   "id": "b5409cf9",
   "metadata": {},
   "outputs": [
    {
     "name": "stdout",
     "output_type": "stream",
     "text": [
      "{1, 2, 4, 5, 6}\n"
     ]
    }
   ],
   "source": [
    "s = set([1,2,4,5,6])\n",
    "print(s)"
   ]
  },
  {
   "cell_type": "markdown",
   "id": "ee6f9e35",
   "metadata": {},
   "source": [
    "Duplicates are not allowed"
   ]
  },
  {
   "cell_type": "code",
   "execution_count": 14,
   "id": "d111c3c1",
   "metadata": {},
   "outputs": [
    {
     "name": "stdout",
     "output_type": "stream",
     "text": [
      "{1, 2, 3}\n"
     ]
    }
   ],
   "source": [
    "s5 = {1,1,2,2,3,3}\n",
    "print(s5)"
   ]
  },
  {
   "cell_type": "markdown",
   "id": "22be50b4",
   "metadata": {},
   "source": [
    "Sets can't have mutable items"
   ]
  },
  {
   "cell_type": "code",
   "execution_count": 16,
   "id": "7f951432",
   "metadata": {},
   "outputs": [],
   "source": [
    "# s6 = {1,2,3,[4,5,6]}  X this is not allowed"
   ]
  },
  {
   "cell_type": "code",
   "execution_count": null,
   "id": "27aabde3",
   "metadata": {},
   "outputs": [
    {
     "name": "stdout",
     "output_type": "stream",
     "text": [
      "True\n"
     ]
    }
   ],
   "source": [
    "s1 = {1,2,3}\n",
    "s2 = {3,2,1}\n",
    "\n",
    "print(s1 == s2)   # Content same --> True , order doesn't matter"
   ]
  },
  {
   "cell_type": "markdown",
   "id": "7fdbbcfb",
   "metadata": {},
   "source": [
    "#### **Accessing Items**"
   ]
  },
  {
   "cell_type": "markdown",
   "id": "feedb147",
   "metadata": {},
   "source": [
    "**Indexing And Slicing**"
   ]
  },
  {
   "cell_type": "code",
   "execution_count": null,
   "id": "37dc4681",
   "metadata": {},
   "outputs": [],
   "source": [
    "# It is not possible to access the items in set \n",
    "# No indexing and No Slice"
   ]
  },
  {
   "cell_type": "markdown",
   "id": "1ec0fac7",
   "metadata": {},
   "source": [
    "**Adding New Items**"
   ]
  },
  {
   "cell_type": "code",
   "execution_count": null,
   "id": "4e85fdda",
   "metadata": {},
   "outputs": [
    {
     "name": "stdout",
     "output_type": "stream",
     "text": [
      "{1, 2, 3, 4, 5}\n"
     ]
    }
   ],
   "source": [
    "# add function  ( hashing controls the index position of added item)\n",
    "\n",
    "s = {1,2,3,4}\n",
    "\n",
    "s.add(5)\n",
    "print(s)"
   ]
  },
  {
   "cell_type": "code",
   "execution_count": 20,
   "id": "f0959fe2",
   "metadata": {},
   "outputs": [
    {
     "name": "stdout",
     "output_type": "stream",
     "text": [
      "{1, 2, 3, 4, 5, 6, 7, 8}\n"
     ]
    }
   ],
   "source": [
    "# update \n",
    "\n",
    "s.update([6,7,8])\n",
    "print(s)"
   ]
  },
  {
   "cell_type": "markdown",
   "id": "302b5d86",
   "metadata": {},
   "source": [
    "**Deleting the items in set**"
   ]
  },
  {
   "cell_type": "markdown",
   "id": "0cbeae0c",
   "metadata": {},
   "source": [
    "**del**"
   ]
  },
  {
   "cell_type": "code",
   "execution_count": 2,
   "id": "76eaedaa",
   "metadata": {},
   "outputs": [],
   "source": [
    "s = {1,2,3,4,5}\n",
    "\n",
    "del s"
   ]
  },
  {
   "cell_type": "markdown",
   "id": "7a9aa07d",
   "metadata": {},
   "source": [
    "**discard**"
   ]
  },
  {
   "cell_type": "code",
   "execution_count": null,
   "id": "cfceaea2",
   "metadata": {},
   "outputs": [
    {
     "name": "stdout",
     "output_type": "stream",
     "text": [
      "{1, 2, 3, 4}\n"
     ]
    }
   ],
   "source": [
    "s = {1,2,3,4,5}\n",
    "\n",
    "s.discard(5)\n",
    "print(s)"
   ]
  },
  {
   "cell_type": "code",
   "execution_count": null,
   "id": "d1584063",
   "metadata": {},
   "outputs": [],
   "source": [
    "# This don't give error\n",
    "# Example\n",
    "\n",
    "s = {1,2,3,4,5}\n",
    "s.discard(50)  # Not give an error"
   ]
  },
  {
   "cell_type": "markdown",
   "id": "b86e2f28",
   "metadata": {},
   "source": [
    "**remove**"
   ]
  },
  {
   "cell_type": "code",
   "execution_count": null,
   "id": "a14f10a4",
   "metadata": {},
   "outputs": [],
   "source": [
    "s = {1,2,3,4,5}\n",
    "\n",
    "s.remove(5)"
   ]
  },
  {
   "cell_type": "code",
   "execution_count": 8,
   "id": "1f6fd57b",
   "metadata": {},
   "outputs": [],
   "source": [
    "# This will give error\n",
    "# Example \n",
    "\n",
    "s = {1,2,3,4,5}\n",
    "\n",
    "# s.remove(50)   ---> it will give error"
   ]
  },
  {
   "cell_type": "markdown",
   "id": "65519514",
   "metadata": {},
   "source": [
    "**pop**"
   ]
  },
  {
   "cell_type": "code",
   "execution_count": null,
   "id": "7dbf873a",
   "metadata": {},
   "outputs": [
    {
     "name": "stdout",
     "output_type": "stream",
     "text": [
      "{2, 3, 4, 5}\n"
     ]
    }
   ],
   "source": [
    "s = {1,2,3,4,5} \n",
    "\n",
    "s.pop()  # It deletes any random item within set\n",
    "\n",
    "print(s)"
   ]
  },
  {
   "cell_type": "markdown",
   "id": "a64aab3d",
   "metadata": {},
   "source": [
    "**clear**"
   ]
  },
  {
   "cell_type": "code",
   "execution_count": null,
   "id": "f7da39d8",
   "metadata": {},
   "outputs": [
    {
     "name": "stdout",
     "output_type": "stream",
     "text": [
      "set()\n"
     ]
    }
   ],
   "source": [
    "s = {1,2,3,4,5}\n",
    "\n",
    "s.clear()   # empty the set\n",
    "print(s)"
   ]
  },
  {
   "cell_type": "markdown",
   "id": "bd8ba80c",
   "metadata": {},
   "source": [
    "#### **Set Operations**"
   ]
  },
  {
   "cell_type": "code",
   "execution_count": 13,
   "id": "d46d4351",
   "metadata": {},
   "outputs": [],
   "source": [
    "s1 = {1,2,3,4,5}\n",
    "\n",
    "s2 = {4,5,6,7,8}"
   ]
  },
  {
   "cell_type": "markdown",
   "id": "1178a8f0",
   "metadata": {},
   "source": [
    "**Union ( | )**"
   ]
  },
  {
   "cell_type": "code",
   "execution_count": 14,
   "id": "ee32a1c4",
   "metadata": {},
   "outputs": [
    {
     "data": {
      "text/plain": [
       "{1, 2, 3, 4, 5, 6, 7, 8}"
      ]
     },
     "execution_count": 14,
     "metadata": {},
     "output_type": "execute_result"
    }
   ],
   "source": [
    "s1 | s2"
   ]
  },
  {
   "cell_type": "markdown",
   "id": "d2b76dd6",
   "metadata": {},
   "source": [
    "**Intersection ( & )**"
   ]
  },
  {
   "cell_type": "code",
   "execution_count": 15,
   "id": "a5f2521e",
   "metadata": {},
   "outputs": [
    {
     "data": {
      "text/plain": [
       "{4, 5}"
      ]
     },
     "execution_count": 15,
     "metadata": {},
     "output_type": "execute_result"
    }
   ],
   "source": [
    "s1 & s2"
   ]
  },
  {
   "cell_type": "markdown",
   "id": "f7571065",
   "metadata": {},
   "source": [
    "**Difference ( - )**"
   ]
  },
  {
   "cell_type": "code",
   "execution_count": 16,
   "id": "49235f16",
   "metadata": {},
   "outputs": [
    {
     "data": {
      "text/plain": [
       "{1, 2, 3}"
      ]
     },
     "execution_count": 16,
     "metadata": {},
     "output_type": "execute_result"
    }
   ],
   "source": [
    "s1 - s2 "
   ]
  },
  {
   "cell_type": "code",
   "execution_count": 17,
   "id": "7efce933",
   "metadata": {},
   "outputs": [
    {
     "data": {
      "text/plain": [
       "{6, 7, 8}"
      ]
     },
     "execution_count": 17,
     "metadata": {},
     "output_type": "execute_result"
    }
   ],
   "source": [
    "s2 - s1"
   ]
  },
  {
   "cell_type": "markdown",
   "id": "553b9807",
   "metadata": {},
   "source": [
    "**Symmetric Difference ( ^ )**"
   ]
  },
  {
   "cell_type": "code",
   "execution_count": 18,
   "id": "aaf5f823",
   "metadata": {},
   "outputs": [
    {
     "data": {
      "text/plain": [
       "{1, 2, 3, 6, 7, 8}"
      ]
     },
     "execution_count": 18,
     "metadata": {},
     "output_type": "execute_result"
    }
   ],
   "source": [
    "s1 ^ s2"
   ]
  },
  {
   "cell_type": "markdown",
   "id": "e2b3ce07",
   "metadata": {},
   "source": [
    "**Membership Test**"
   ]
  },
  {
   "cell_type": "code",
   "execution_count": 19,
   "id": "11ed96f6",
   "metadata": {},
   "outputs": [
    {
     "data": {
      "text/plain": [
       "True"
      ]
     },
     "execution_count": 19,
     "metadata": {},
     "output_type": "execute_result"
    }
   ],
   "source": [
    "1 in s1"
   ]
  },
  {
   "cell_type": "code",
   "execution_count": 20,
   "id": "9a13f649",
   "metadata": {},
   "outputs": [
    {
     "data": {
      "text/plain": [
       "False"
      ]
     },
     "execution_count": 20,
     "metadata": {},
     "output_type": "execute_result"
    }
   ],
   "source": [
    "3 not in s1"
   ]
  },
  {
   "cell_type": "markdown",
   "id": "49636056",
   "metadata": {},
   "source": [
    "**Iteration**"
   ]
  },
  {
   "cell_type": "code",
   "execution_count": 21,
   "id": "1dd3f38c",
   "metadata": {},
   "outputs": [
    {
     "name": "stdout",
     "output_type": "stream",
     "text": [
      "1\n",
      "2\n",
      "3\n",
      "4\n",
      "5\n"
     ]
    }
   ],
   "source": [
    "for i in s1:\n",
    "    print(i)"
   ]
  },
  {
   "cell_type": "markdown",
   "id": "516fbcd8",
   "metadata": {},
   "source": [
    "#### **Set Function**"
   ]
  },
  {
   "cell_type": "markdown",
   "id": "a44719db",
   "metadata": {},
   "source": [
    "**len / sum / min / max / sorted**"
   ]
  },
  {
   "cell_type": "code",
   "execution_count": 22,
   "id": "26e82b02",
   "metadata": {},
   "outputs": [],
   "source": [
    "s = {1,2,3,4,5}"
   ]
  },
  {
   "cell_type": "code",
   "execution_count": 28,
   "id": "c2d165e8",
   "metadata": {},
   "outputs": [
    {
     "name": "stdout",
     "output_type": "stream",
     "text": [
      "5\n",
      "5\n",
      "1\n",
      "15\n",
      "[1, 2, 3, 4, 5]\n",
      "[5, 4, 3, 2, 1]\n"
     ]
    }
   ],
   "source": [
    "print(len(s))\n",
    "\n",
    "print(max(s))\n",
    "\n",
    "print(min(s))\n",
    "\n",
    "print(sum(s))\n",
    "\n",
    "print(sorted(s))\n",
    "\n",
    "print(sorted(s,reverse=True))"
   ]
  },
  {
   "cell_type": "markdown",
   "id": "cedf3595",
   "metadata": {},
   "source": [
    "**Union / Update**"
   ]
  },
  {
   "cell_type": "code",
   "execution_count": 29,
   "id": "40ab5266",
   "metadata": {},
   "outputs": [],
   "source": [
    "s1 = {1,2,3,4,5}\n",
    "\n",
    "s2 = {4,5,6,7,8}"
   ]
  },
  {
   "cell_type": "code",
   "execution_count": 30,
   "id": "c9773236",
   "metadata": {},
   "outputs": [
    {
     "data": {
      "text/plain": [
       "{1, 2, 3, 4, 5, 6, 7, 8}"
      ]
     },
     "execution_count": 30,
     "metadata": {},
     "output_type": "execute_result"
    }
   ],
   "source": [
    "s1.union(s2)"
   ]
  },
  {
   "cell_type": "code",
   "execution_count": 31,
   "id": "1ea5af8a",
   "metadata": {},
   "outputs": [
    {
     "name": "stdout",
     "output_type": "stream",
     "text": [
      "{1, 2, 3, 4, 5, 6, 7, 8}\n",
      "{4, 5, 6, 7, 8}\n"
     ]
    }
   ],
   "source": [
    "# update\n",
    "\n",
    "s1.update(s2)\n",
    "\n",
    "print(s1)\n",
    "print(s2)"
   ]
  },
  {
   "cell_type": "markdown",
   "id": "1717dfb4",
   "metadata": {},
   "source": [
    "**Intersection / Intersection_update**"
   ]
  },
  {
   "cell_type": "code",
   "execution_count": 32,
   "id": "12868569",
   "metadata": {},
   "outputs": [],
   "source": [
    "s1 = {1,2,3,4,5}\n",
    "\n",
    "s2 = {4,5,6,7,8}"
   ]
  },
  {
   "cell_type": "code",
   "execution_count": 33,
   "id": "b5868a85",
   "metadata": {},
   "outputs": [
    {
     "data": {
      "text/plain": [
       "{4, 5}"
      ]
     },
     "execution_count": 33,
     "metadata": {},
     "output_type": "execute_result"
    }
   ],
   "source": [
    "s1.intersection(s2)"
   ]
  },
  {
   "cell_type": "code",
   "execution_count": 34,
   "id": "51cbcb1a",
   "metadata": {},
   "outputs": [
    {
     "name": "stdout",
     "output_type": "stream",
     "text": [
      "{4, 5}\n",
      "{4, 5, 6, 7, 8}\n"
     ]
    }
   ],
   "source": [
    "# update \n",
    "\n",
    "s1.intersection_update(s2)\n",
    "print(s1)\n",
    "print(s2)"
   ]
  },
  {
   "cell_type": "markdown",
   "id": "f9598185",
   "metadata": {},
   "source": [
    "**Difference / Difference_update**"
   ]
  },
  {
   "cell_type": "code",
   "execution_count": 35,
   "id": "99da904d",
   "metadata": {},
   "outputs": [],
   "source": [
    "s1 = {1,2,3,4,5}\n",
    "\n",
    "s2 = {4,5,6,7,8}"
   ]
  },
  {
   "cell_type": "code",
   "execution_count": 36,
   "id": "c2895d47",
   "metadata": {},
   "outputs": [
    {
     "data": {
      "text/plain": [
       "{1, 2, 3}"
      ]
     },
     "execution_count": 36,
     "metadata": {},
     "output_type": "execute_result"
    }
   ],
   "source": [
    "s1.difference(s2)"
   ]
  },
  {
   "cell_type": "code",
   "execution_count": 37,
   "id": "ac27d751",
   "metadata": {},
   "outputs": [
    {
     "name": "stdout",
     "output_type": "stream",
     "text": [
      "{1, 2, 3}\n",
      "{4, 5, 6, 7, 8}\n"
     ]
    }
   ],
   "source": [
    "#update\n",
    "\n",
    "s1.difference_update(s2)\n",
    "print(s1)\n",
    "print(s2)"
   ]
  },
  {
   "cell_type": "markdown",
   "id": "7f54c739",
   "metadata": {},
   "source": [
    "**Symmetric Difference / Symmetric Difference Update**"
   ]
  },
  {
   "cell_type": "code",
   "execution_count": 38,
   "id": "51bd0804",
   "metadata": {},
   "outputs": [],
   "source": [
    "s1 = {1,2,3,4,5}\n",
    "\n",
    "s2 = {4,5,6,7,8}"
   ]
  },
  {
   "cell_type": "code",
   "execution_count": 39,
   "id": "53d2b964",
   "metadata": {},
   "outputs": [
    {
     "data": {
      "text/plain": [
       "{1, 2, 3, 6, 7, 8}"
      ]
     },
     "execution_count": 39,
     "metadata": {},
     "output_type": "execute_result"
    }
   ],
   "source": [
    "s1.symmetric_difference(s2)"
   ]
  },
  {
   "cell_type": "code",
   "execution_count": 40,
   "id": "a12aa9bb",
   "metadata": {},
   "outputs": [
    {
     "name": "stdout",
     "output_type": "stream",
     "text": [
      "{1, 2, 3, 6, 7, 8}\n",
      "{4, 5, 6, 7, 8}\n"
     ]
    }
   ],
   "source": [
    "#update\n",
    "\n",
    "s1.symmetric_difference_update(s2)\n",
    "print(s1)\n",
    "print(s2)"
   ]
  },
  {
   "cell_type": "markdown",
   "id": "77508390",
   "metadata": {},
   "source": [
    "**isdisjoint / issubset / issuperset**"
   ]
  },
  {
   "cell_type": "code",
   "execution_count": 41,
   "id": "fcbf0509",
   "metadata": {},
   "outputs": [
    {
     "data": {
      "text/plain": [
       "False"
      ]
     },
     "execution_count": 41,
     "metadata": {},
     "output_type": "execute_result"
    }
   ],
   "source": [
    "# is disjoint\n",
    "s1 = {1,2,3,4,5}\n",
    "\n",
    "s2 = {4,5,6,7,8}\n",
    "\n",
    "s1.isdisjoint(s2)"
   ]
  },
  {
   "cell_type": "code",
   "execution_count": 42,
   "id": "6d569b88",
   "metadata": {},
   "outputs": [
    {
     "data": {
      "text/plain": [
       "False"
      ]
     },
     "execution_count": 42,
     "metadata": {},
     "output_type": "execute_result"
    }
   ],
   "source": [
    "# is issubset\n",
    "s1 = {1,2,3,4,5}\n",
    "\n",
    "s2 = {4,5,6,7,8}\n",
    "\n",
    "s1.issubset(s2)"
   ]
  },
  {
   "cell_type": "code",
   "execution_count": 44,
   "id": "000eb114",
   "metadata": {},
   "outputs": [
    {
     "data": {
      "text/plain": [
       "False"
      ]
     },
     "execution_count": 44,
     "metadata": {},
     "output_type": "execute_result"
    }
   ],
   "source": [
    "# is superset\n",
    "\n",
    "s1 = {1,2,3,4,5}\n",
    "\n",
    "s2 = {4,5,6,7,8}\n",
    "\n",
    "s1.issuperset(s2)"
   ]
  },
  {
   "cell_type": "markdown",
   "id": "aeb76a35",
   "metadata": {},
   "source": [
    "copy "
   ]
  },
  {
   "cell_type": "code",
   "execution_count": 47,
   "id": "802dfcf0",
   "metadata": {},
   "outputs": [
    {
     "data": {
      "text/plain": [
       "{1, 2, 3, 4, 5}"
      ]
     },
     "execution_count": 47,
     "metadata": {},
     "output_type": "execute_result"
    }
   ],
   "source": [
    "s1 = {1,2,3,4,5}\n",
    "\n",
    "s2 = s1.copy()\n",
    "\n",
    "s2"
   ]
  },
  {
   "cell_type": "markdown",
   "id": "92e0321f",
   "metadata": {},
   "source": [
    "#### **Frozenset**\n",
    "\n",
    "**Frozen set is just an immutable version of python set object**"
   ]
  },
  {
   "cell_type": "code",
   "execution_count": 49,
   "id": "998938af",
   "metadata": {},
   "outputs": [
    {
     "name": "stdout",
     "output_type": "stream",
     "text": [
      "frozenset({1, 2, 3, 4})\n"
     ]
    }
   ],
   "source": [
    "fs = frozenset([1,2,3,4])\n",
    "\n",
    "print(fs)"
   ]
  },
  {
   "cell_type": "markdown",
   "id": "6fdc0b2d",
   "metadata": {},
   "source": [
    "2D Frozenset"
   ]
  },
  {
   "cell_type": "code",
   "execution_count": 52,
   "id": "683f0726",
   "metadata": {},
   "outputs": [
    {
     "data": {
      "text/plain": [
       "frozenset({1, 2, 3, frozenset({2, 3, 4})})"
      ]
     },
     "execution_count": 52,
     "metadata": {},
     "output_type": "execute_result"
    }
   ],
   "source": [
    "fs = frozenset([1,2,3,frozenset([2,3,4])])\n",
    "fs"
   ]
  },
  {
   "cell_type": "markdown",
   "id": "5685b022",
   "metadata": {},
   "source": [
    "#### **Set Comprehension**"
   ]
  },
  {
   "cell_type": "code",
   "execution_count": 50,
   "id": "fa486995",
   "metadata": {},
   "outputs": [
    {
     "data": {
      "text/plain": [
       "{36, 49, 64, 81, 100}"
      ]
     },
     "execution_count": 50,
     "metadata": {},
     "output_type": "execute_result"
    }
   ],
   "source": [
    "{i**2 for i in range(1,11) if i > 5}"
   ]
  }
 ],
 "metadata": {
  "kernelspec": {
   "display_name": "MlWorld",
   "language": "python",
   "name": "python3"
  },
  "language_info": {
   "codemirror_mode": {
    "name": "ipython",
    "version": 3
   },
   "file_extension": ".py",
   "mimetype": "text/x-python",
   "name": "python",
   "nbconvert_exporter": "python",
   "pygments_lexer": "ipython3",
   "version": "3.10.18"
  }
 },
 "nbformat": 4,
 "nbformat_minor": 5
}
