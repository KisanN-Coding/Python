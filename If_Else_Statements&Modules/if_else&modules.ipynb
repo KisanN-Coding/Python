{
 "cells": [
  {
   "cell_type": "markdown",
   "id": "3d88b68e",
   "metadata": {},
   "source": [
    "## IF ELSE Statements in Python\n",
    "\n",
    "**`if-else` is used in Python to make decisions in your code**\n",
    "\n",
    "* Just like in real life, you make decisions:\n",
    "If it’s raining, take an umbrella, else go without it."
   ]
  },
  {
   "cell_type": "code",
   "execution_count": 6,
   "id": "672ec5e3",
   "metadata": {},
   "outputs": [
    {
     "name": "stdout",
     "output_type": "stream",
     "text": [
      "Welcome, swagat hai\n"
     ]
    }
   ],
   "source": [
    "# Example\n",
    "# In this example it is assumed that email = fakecoder@gmail.com and pass=1234\n",
    "\n",
    "email = input(\"Enter your email\")\n",
    "passd = int(input(\"Enter the pass\"))\n",
    "\n",
    "if email == \"fakecoder@gmail.com\" and passd == 1234:\n",
    "    print(\"Welcome, swagat hai\")\n",
    "       \n",
    "else:\n",
    "    print(\"Badam kha aur fir try kar\")\n",
    "    "
   ]
  },
  {
   "cell_type": "code",
   "execution_count": 9,
   "id": "211d8713",
   "metadata": {},
   "outputs": [
    {
     "name": "stdout",
     "output_type": "stream",
     "text": [
      "Ek aur chance hai, sahi password bata\n",
      "Welcome, swagat hai\n"
     ]
    }
   ],
   "source": [
    "# for elif \n",
    "# Lets change the example , we will one more for password after correct email\n",
    "\n",
    "email = input(\"Enter your email\")\n",
    "passd = int(input(\"Enter the pass\"))\n",
    "\n",
    "if email == \"fakecoder@gmail.com\" and passd == 1234:\n",
    "    print(\"Welcome, swagat hai\")\n",
    "    \n",
    "elif email == \"fakecoder@gmail.com\" and passd != 1234:\n",
    "    print(\"Ek aur chance hai, sahi password bata\")\n",
    "    passd = int(input(\"Enter the pass\"))\n",
    "    print(\"Welcome, swagat hai\")\n",
    "else:\n",
    "    print(\"Badam kha aur fir try kar\")"
   ]
  },
  {
   "cell_type": "markdown",
   "id": "8fca2a46",
   "metadata": {},
   "source": [
    "#### if else examples"
   ]
  },
  {
   "cell_type": "code",
   "execution_count": 10,
   "id": "b9c09966",
   "metadata": {},
   "outputs": [
    {
     "name": "stdout",
     "output_type": "stream",
     "text": [
      "The min number is 2\n"
     ]
    }
   ],
   "source": [
    "# Find the min of 3 given numbers\n",
    "\n",
    "num1= int(input(\"Enter 1st number:\"))\n",
    "num2= int(input(\"Enter 2nd number:\"))\n",
    "num3= int(input(\"Enter 3rd number:\"))\n",
    "\n",
    "if num1 < num2 and num1 < num3:\n",
    "    print(f\"The min number is {num1}\")\n",
    "    \n",
    "elif num2 < num1 and num2 < num3:\n",
    "    print(f\"The min number is {num2}\")\n",
    "    \n",
    "else:\n",
    "    print(f\"The min number is {num3}\")"
   ]
  },
  {
   "cell_type": "code",
   "execution_count": 11,
   "id": "344faa19",
   "metadata": {},
   "outputs": [
    {
     "name": "stdout",
     "output_type": "stream",
     "text": [
      "30\n"
     ]
    }
   ],
   "source": [
    "# menu driven calculator\n",
    "\n",
    "a= int(input(\"Enter 1st number:\"))\n",
    "b= int(input(\"Enter 2nd number:\"))\n",
    "\n",
    "op = input(\"Which operation you want to perform (+,-,*,/):\")\n",
    "\n",
    "if op == '+':\n",
    "    print(a+b)\n",
    "    \n",
    "elif op == '-':\n",
    "    print(a-b)\n",
    "    \n",
    "elif op == '*':\n",
    "    print(a*b)\n",
    "    \n",
    "elif op == '/':\n",
    "    print(a/b)\n",
    "    \n",
    "else:\n",
    "    print(\"Error\")\n",
    "    "
   ]
  },
  {
   "cell_type": "markdown",
   "id": "1f9b7e2f",
   "metadata": {},
   "source": [
    "## Modules in Python\n",
    "\n",
    "A `module` is just a file containing Python code that you can reuse in other Python programs\n",
    "\n",
    "* Types of Modules\n",
    "\n",
    "   * Built-in modules (already in Python)\n",
    "\n",
    "   * User-defined modules (created by you)\n",
    "\n",
    "   * External modules (installed using pip, like pandas, numpy, etc.)\n",
    "\n",
    "Think of a module as a toolbox — it has useful tools (functions, variables, classes) that you can use anytime."
   ]
  },
  {
   "cell_type": "code",
   "execution_count": 13,
   "id": "f3d1b3be",
   "metadata": {},
   "outputs": [
    {
     "name": "stdout",
     "output_type": "stream",
     "text": [
      "4.47213595499958\n",
      "3.141592653589793\n"
     ]
    }
   ],
   "source": [
    "# Python has many modules already built-in, like math\n",
    "import math\n",
    "\n",
    "print(math.sqrt(20))\n",
    "print(math.pi)"
   ]
  },
  {
   "cell_type": "code",
   "execution_count": 16,
   "id": "3f4052a6",
   "metadata": {},
   "outputs": [
    {
     "name": "stdout",
     "output_type": "stream",
     "text": [
      "['False', 'None', 'True', 'and', 'as', 'assert', 'async', 'await', 'break', 'class', 'continue', 'def', 'del', 'elif', 'else', 'except', 'finally', 'for', 'from', 'global', 'if', 'import', 'in', 'is', 'lambda', 'nonlocal', 'not', 'or', 'pass', 'raise', 'return', 'try', 'while', 'with', 'yield']\n"
     ]
    }
   ],
   "source": [
    "# keyword\n",
    "import keyword\n",
    "print(keyword.kwlist)\n"
   ]
  },
  {
   "cell_type": "code",
   "execution_count": 18,
   "id": "88c45729",
   "metadata": {},
   "outputs": [
    {
     "name": "stdout",
     "output_type": "stream",
     "text": [
      "86\n"
     ]
    }
   ],
   "source": [
    "# random\n",
    "\n",
    "import random\n",
    "print(random.randint(1,100))"
   ]
  },
  {
   "cell_type": "code",
   "execution_count": 19,
   "id": "0b8e0698",
   "metadata": {},
   "outputs": [
    {
     "name": "stdout",
     "output_type": "stream",
     "text": [
      "2025-07-17 21:46:33.120916\n"
     ]
    }
   ],
   "source": [
    "# Datetime\n",
    "\n",
    "import datetime\n",
    "print(datetime.datetime.now())"
   ]
  },
  {
   "cell_type": "code",
   "execution_count": 14,
   "id": "2f0760f9",
   "metadata": {},
   "outputs": [
    {
     "name": "stdout",
     "output_type": "stream",
     "text": [
      "Hello Kisan\n"
     ]
    }
   ],
   "source": [
    "# User-defined Module Example\n",
    "\n",
    "def greet(name):\n",
    "    print(\"Hello\",name)\n",
    "    \n",
    "\n",
    "greet('Kisan')"
   ]
  },
  {
   "cell_type": "code",
   "execution_count": 15,
   "id": "d9c299b7",
   "metadata": {},
   "outputs": [
    {
     "name": "stdout",
     "output_type": "stream",
     "text": [
      "[1 2 3]\n"
     ]
    }
   ],
   "source": [
    "# External Modules\n",
    "# These are not built-in, but you can install them using pip\n",
    "# Example : pip install numpy\n",
    "\n",
    "import numpy as np \n",
    "\n",
    "arr = np.array([1,2,3])\n",
    "print(arr)"
   ]
  },
  {
   "cell_type": "code",
   "execution_count": 21,
   "id": "2b57d3a6",
   "metadata": {},
   "outputs": [],
   "source": [
    "# To see all modules present in python\n",
    "\n",
    "# help('modules')  # Uncomment this and run it"
   ]
  },
  {
   "cell_type": "code",
   "execution_count": null,
   "id": "96fa8dab",
   "metadata": {},
   "outputs": [],
   "source": []
  }
 ],
 "metadata": {
  "kernelspec": {
   "display_name": "MlWorld",
   "language": "python",
   "name": "python3"
  },
  "language_info": {
   "codemirror_mode": {
    "name": "ipython",
    "version": 3
   },
   "file_extension": ".py",
   "mimetype": "text/x-python",
   "name": "python",
   "nbconvert_exporter": "python",
   "pygments_lexer": "ipython3",
   "version": "3.10.18"
  }
 },
 "nbformat": 4,
 "nbformat_minor": 5
}
