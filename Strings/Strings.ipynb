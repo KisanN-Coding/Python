{
 "cells": [
  {
   "cell_type": "markdown",
   "id": "1b9cc04d",
   "metadata": {},
   "source": [
    "## String \n",
    "\n",
    "**A string is a sequence of characters like letters, numbers, or symbols — written in quotes**\n",
    "\n",
    "**In Python specifically, strings are a sequence of Unicode Characters**"
   ]
  },
  {
   "cell_type": "markdown",
   "id": "c7df4ff9",
   "metadata": {},
   "source": [
    "Example :"
   ]
  },
  {
   "cell_type": "code",
   "execution_count": null,
   "id": "acb854c3",
   "metadata": {},
   "outputs": [],
   "source": [
    "name = 'fake coder'\n",
    "msg = 'Hello python'"
   ]
  },
  {
   "cell_type": "markdown",
   "id": "20f51295",
   "metadata": {},
   "source": [
    "#### Creating a String"
   ]
  },
  {
   "cell_type": "code",
   "execution_count": 3,
   "id": "2feb5a7b",
   "metadata": {},
   "outputs": [
    {
     "name": "stdout",
     "output_type": "stream",
     "text": [
      "Hello\n",
      "       python\n"
     ]
    }
   ],
   "source": [
    "s = 'hello'\n",
    "s = \"Hello python\"\n",
    "\n",
    "# From multiline strings\n",
    "s = '''Hello python''' \n",
    "s = \"\"\"Hello\n",
    "       python\"\"\"\n",
    "print(s)"
   ]
  },
  {
   "cell_type": "code",
   "execution_count": 2,
   "id": "14602701",
   "metadata": {},
   "outputs": [
    {
     "name": "stdout",
     "output_type": "stream",
     "text": [
      "it's sunday today\n"
     ]
    }
   ],
   "source": [
    "# s = 'it's sunday today'   # it will throw an error\n",
    "s = \"it's sunday today\"\n",
    "print(s)"
   ]
  },
  {
   "cell_type": "markdown",
   "id": "403d4953",
   "metadata": {},
   "source": [
    "**Creating string through type conversion**"
   ]
  },
  {
   "cell_type": "code",
   "execution_count": 4,
   "id": "6ea24e2c",
   "metadata": {},
   "outputs": [
    {
     "name": "stdout",
     "output_type": "stream",
     "text": [
      "<class 'str'>\n"
     ]
    }
   ],
   "source": [
    "s = str('hello')\n",
    "print(type(s))"
   ]
  },
  {
   "cell_type": "markdown",
   "id": "b8d08533",
   "metadata": {},
   "source": [
    "### Accessing substrings from strings"
   ]
  },
  {
   "cell_type": "markdown",
   "id": "9e911669",
   "metadata": {},
   "source": [
    "**Indexing**\n",
    "\n",
    "* Positive Indexing\n",
    "* Negative Indexing"
   ]
  },
  {
   "cell_type": "code",
   "execution_count": null,
   "id": "3c93bd67",
   "metadata": {},
   "outputs": [
    {
     "name": "stdout",
     "output_type": "stream",
     "text": [
      "H\n",
      "o\n"
     ]
    }
   ],
   "source": [
    "# Positive Indexing --> 0 to +num\n",
    "\n",
    "s = 'Hello python'\n",
    "print(s[0])\n",
    "print(s[4])"
   ]
  },
  {
   "cell_type": "code",
   "execution_count": 10,
   "id": "d2f108ef",
   "metadata": {},
   "outputs": [
    {
     "name": "stdout",
     "output_type": "stream",
     "text": [
      "n\n",
      "o\n"
     ]
    }
   ],
   "source": [
    "# Negative Indexing --> -1 to -num\n",
    "\n",
    "s = 'Hello python'\n",
    "print(s[-1])\n",
    "print(s[-8])"
   ]
  },
  {
   "cell_type": "markdown",
   "id": "5dd6356e",
   "metadata": {},
   "source": [
    "**Slicing**"
   ]
  },
  {
   "cell_type": "code",
   "execution_count": null,
   "id": "fd2d057e",
   "metadata": {},
   "outputs": [
    {
     "name": "stdout",
     "output_type": "stream",
     "text": [
      "Hello\n",
      "llo python\n"
     ]
    }
   ],
   "source": [
    "s = 'Hello python'\n",
    "\n",
    "print(s[0:5]) # 0 to 4 (last one is not included)\n",
    "\n",
    "print(s[2:]) # 2 to end"
   ]
  },
  {
   "cell_type": "markdown",
   "id": "d51d5cb8",
   "metadata": {},
   "source": [
    "**Slicing with steps or jumps**"
   ]
  },
  {
   "cell_type": "code",
   "execution_count": 19,
   "id": "8b06b4e7",
   "metadata": {},
   "outputs": [
    {
     "name": "stdout",
     "output_type": "stream",
     "text": [
      "Hlo\n",
      "Hl\n"
     ]
    }
   ],
   "source": [
    "s = 'Hello python'\n",
    "print(s[0:5:2])    # 0 to 5 with jump of 2\n",
    "\n",
    "print(s[0:5:3])  # 0 to 5 with jump of 3\n"
   ]
  },
  {
   "cell_type": "markdown",
   "id": "76955f20",
   "metadata": {},
   "source": [
    "**Negative jumps**"
   ]
  },
  {
   "cell_type": "code",
   "execution_count": null,
   "id": "e9dc1d3c",
   "metadata": {},
   "outputs": [
    {
     "name": "stdout",
     "output_type": "stream",
     "text": [
      " olle\n"
     ]
    }
   ],
   "source": [
    "# Note : first number must be bigger\n",
    "s = 'Hello python'\n",
    "\n",
    "print(s[5:0:-1])  # See five is bigger"
   ]
  },
  {
   "cell_type": "markdown",
   "id": "96dd9169",
   "metadata": {},
   "source": [
    "**To reverse the string**"
   ]
  },
  {
   "cell_type": "code",
   "execution_count": 20,
   "id": "11e24d9c",
   "metadata": {},
   "outputs": [
    {
     "name": "stdout",
     "output_type": "stream",
     "text": [
      "nohtyp\n"
     ]
    }
   ],
   "source": [
    "st = 'python'\n",
    "\n",
    "print(st[::-1])"
   ]
  },
  {
   "cell_type": "markdown",
   "id": "f66db72c",
   "metadata": {},
   "source": [
    "**Negative Slicing**"
   ]
  },
  {
   "cell_type": "code",
   "execution_count": 26,
   "id": "48647960",
   "metadata": {},
   "outputs": [
    {
     "name": "stdout",
     "output_type": "stream",
     "text": [
      "ython\n"
     ]
    }
   ],
   "source": [
    "st = 'python'\n",
    "\n",
    "print(st[-5:])"
   ]
  },
  {
   "cell_type": "code",
   "execution_count": 40,
   "id": "15539428",
   "metadata": {},
   "outputs": [
    {
     "name": "stdout",
     "output_type": "stream",
     "text": [
      "dlrow\n"
     ]
    }
   ],
   "source": [
    "# Example : reverse of world\n",
    "\n",
    "st = 'python world'\n",
    "\n",
    "print(st[-1:-6:-1])"
   ]
  },
  {
   "cell_type": "markdown",
   "id": "bb36e380",
   "metadata": {},
   "source": [
    "### Editing and Deleting in Strings"
   ]
  },
  {
   "cell_type": "markdown",
   "id": "c2239e94",
   "metadata": {},
   "source": [
    "**Editing String**"
   ]
  },
  {
   "cell_type": "code",
   "execution_count": null,
   "id": "e5885da1",
   "metadata": {},
   "outputs": [],
   "source": [
    "# st = 'python world'\n",
    "\n",
    "# st[0] = 'h'\n",
    "\n",
    "# TypeError: 'str' object does not support item assignment\n",
    "\n",
    "# Python strings are immutable (can't change or edit)"
   ]
  },
  {
   "cell_type": "markdown",
   "id": "67d1a53f",
   "metadata": {},
   "source": [
    "**Deleting Strings**"
   ]
  },
  {
   "cell_type": "code",
   "execution_count": null,
   "id": "2045c600",
   "metadata": {},
   "outputs": [],
   "source": [
    "s = 'python'\n",
    "\n",
    "del s   # You are deleting string , but not actually deleting the string"
   ]
  },
  {
   "cell_type": "code",
   "execution_count": null,
   "id": "222441da",
   "metadata": {},
   "outputs": [],
   "source": [
    "# Even this is not possible\n",
    "\n",
    "# s = 'python'\n",
    "\n",
    "# del s[0:5:-1]   --> no editing"
   ]
  },
  {
   "cell_type": "markdown",
   "id": "de3a9cb2",
   "metadata": {},
   "source": [
    "### Operations on Strings"
   ]
  },
  {
   "cell_type": "markdown",
   "id": "effcc89d",
   "metadata": {},
   "source": [
    "##### **1) Arithmetic Operations on Strings**\n",
    "\n",
    "| Operation     | Syntax        | Example             | Output         |\n",
    "| ------------- | ------------- | ------------------- | -------------- |\n",
    "| Concatenation | `str1 + str2` | `\"Hello\" + \"World\"` | `'HelloWorld'` |\n",
    "| Repetition    | `str * n`     | `\"Hi\" * 3`          | `'HiHiHi'`     |\n",
    "\n",
    "Note : You cannot use - , / , * between two strings directly (will give error)."
   ]
  },
  {
   "cell_type": "markdown",
   "id": "aaeab847",
   "metadata": {},
   "source": [
    "**Concatenation**"
   ]
  },
  {
   "cell_type": "code",
   "execution_count": 46,
   "id": "3ab9b689",
   "metadata": {},
   "outputs": [
    {
     "name": "stdout",
     "output_type": "stream",
     "text": [
      "HelloWorld\n",
      "hello python\n"
     ]
    }
   ],
   "source": [
    "print('Hello' + 'World')\n",
    "\n",
    "print('hello' +' '+ 'python')"
   ]
  },
  {
   "cell_type": "markdown",
   "id": "4ea39c57",
   "metadata": {},
   "source": [
    "**Repetition**"
   ]
  },
  {
   "cell_type": "code",
   "execution_count": 47,
   "id": "0cbbd82c",
   "metadata": {},
   "outputs": [
    {
     "name": "stdout",
     "output_type": "stream",
     "text": [
      "hihihi\n"
     ]
    }
   ],
   "source": [
    "print('hi'*3)"
   ]
  },
  {
   "cell_type": "markdown",
   "id": "f0fee077",
   "metadata": {},
   "source": [
    "##### 2) Relational (Comparison) Operations\n",
    "\n",
    "| Operation        | Syntax | Example              | Output |\n",
    "| ---------------- | ------ | -------------------- | ------ |\n",
    "| Equal to         | `==`   | `\"abc\" == \"abc\"`     | `True` |\n",
    "| Not equal to     | `!=`   | `\"abc\" != \"xyz\"`     | `True` |\n",
    "| Greater than     | `>`    | `\"b\" > \"a\"`          | `True` |\n",
    "| Less than        | `<`    | `\"apple\" < \"banana\"` | `True` |\n",
    "| Greater or Equal | `>=`   | `\"a\" >= \"a\"`         | `True` |\n",
    "| Less or Equal    | `<=`   | `\"a\" <= \"b\"`         | `True` |\n",
    "\n",
    "These compare based on alphabetical order (ASCII values)"
   ]
  },
  {
   "cell_type": "code",
   "execution_count": null,
   "id": "6ad53a44",
   "metadata": {},
   "outputs": [
    {
     "data": {
      "text/plain": [
       "True"
      ]
     },
     "execution_count": 50,
     "metadata": {},
     "output_type": "execute_result"
    }
   ],
   "source": [
    "# Equal to\n",
    "'Pune' == 'Pune'"
   ]
  },
  {
   "cell_type": "code",
   "execution_count": 51,
   "id": "b48cb68c",
   "metadata": {},
   "outputs": [
    {
     "data": {
      "text/plain": [
       "True"
      ]
     },
     "execution_count": 51,
     "metadata": {},
     "output_type": "execute_result"
    }
   ],
   "source": [
    "# Not Equal to\n",
    "'Delhi' != 'delhi'"
   ]
  },
  {
   "cell_type": "code",
   "execution_count": 52,
   "id": "1b2cc604",
   "metadata": {},
   "outputs": [
    {
     "data": {
      "text/plain": [
       "False"
      ]
     },
     "execution_count": 52,
     "metadata": {},
     "output_type": "execute_result"
    }
   ],
   "source": [
    "# Greater than\n",
    "'a' > 'b'"
   ]
  },
  {
   "cell_type": "code",
   "execution_count": null,
   "id": "e831630e",
   "metadata": {},
   "outputs": [],
   "source": [
    "# You can try them all"
   ]
  },
  {
   "cell_type": "markdown",
   "id": "83c3fbc2",
   "metadata": {},
   "source": [
    "##### 3) Logical Operations on Strings\n",
    "\n",
    "| Operation | Syntax            | Example                     | Output |\n",
    "| --------- | ----------------- | --------------------------- | ------ |\n",
    "| `and`     | `cond1 and cond2` | `\"a\" == \"a\" and \"b\" == \"b\"` | `True` |\n",
    "| `or`      | `cond1 or cond2`  | `\"a\" == \"a\" or \"b\" == \"c\"`  | `True` |\n",
    "| `not`     | `not cond`        | `not (\"a\" == \"b\")`          | `True` |\n",
    "\n",
    "Used to combine relational expressions on strings\n",
    "\n"
   ]
  },
  {
   "cell_type": "markdown",
   "id": "fb585b1c",
   "metadata": {},
   "source": [
    "**Note : That python says empty string ( ' ' ) = False and string with characters ('hello') = True** "
   ]
  },
  {
   "cell_type": "code",
   "execution_count": null,
   "id": "be9e5502",
   "metadata": {},
   "outputs": [
    {
     "data": {
      "text/plain": [
       "''"
      ]
     },
     "execution_count": 53,
     "metadata": {},
     "output_type": "execute_result"
    }
   ],
   "source": [
    "# Example \n",
    "\n",
    "'' and 'hello'   # Output --> ''  --> because '' = false "
   ]
  },
  {
   "cell_type": "code",
   "execution_count": 55,
   "id": "7e0b2fc7",
   "metadata": {},
   "outputs": [
    {
     "data": {
      "text/plain": [
       "'Hii'"
      ]
     },
     "execution_count": 55,
     "metadata": {},
     "output_type": "execute_result"
    }
   ],
   "source": [
    "# Example 2\n",
    "\n",
    "'' or 'Hii'  # Output --> 'Hii'"
   ]
  },
  {
   "cell_type": "code",
   "execution_count": null,
   "id": "3414e143",
   "metadata": {},
   "outputs": [
    {
     "data": {
      "text/plain": [
       "'hello'"
      ]
     },
     "execution_count": 56,
     "metadata": {},
     "output_type": "execute_result"
    }
   ],
   "source": [
    "# Example 3\n",
    "\n",
    "'hello' or 'python'   # Here python checking first one and findings true so output is hello"
   ]
  },
  {
   "cell_type": "code",
   "execution_count": 57,
   "id": "48db6d26",
   "metadata": {},
   "outputs": [
    {
     "data": {
      "text/plain": [
       "'world'"
      ]
     },
     "execution_count": 57,
     "metadata": {},
     "output_type": "execute_result"
    }
   ],
   "source": [
    "# Example 4 : for and \n",
    "\n",
    "'hello' and 'world'  # For and it has to check both , so second one found as True , Output is 'world'"
   ]
  },
  {
   "cell_type": "code",
   "execution_count": null,
   "id": "ea97eb70",
   "metadata": {},
   "outputs": [
    {
     "data": {
      "text/plain": [
       "''"
      ]
     },
     "execution_count": 58,
     "metadata": {},
     "output_type": "execute_result"
    }
   ],
   "source": [
    "# One more example for and \n",
    "\n",
    "'hello' and  ''  # Second one is False , Output False"
   ]
  },
  {
   "cell_type": "code",
   "execution_count": 62,
   "id": "5c4f420f",
   "metadata": {},
   "outputs": [
    {
     "data": {
      "text/plain": [
       "True"
      ]
     },
     "execution_count": 62,
     "metadata": {},
     "output_type": "execute_result"
    }
   ],
   "source": [
    "# not \n",
    "\n",
    "not ''  # Negation"
   ]
  },
  {
   "cell_type": "code",
   "execution_count": 63,
   "id": "d708a8bd",
   "metadata": {},
   "outputs": [
    {
     "data": {
      "text/plain": [
       "False"
      ]
     },
     "execution_count": 63,
     "metadata": {},
     "output_type": "execute_result"
    }
   ],
   "source": [
    "not 'hi'"
   ]
  },
  {
   "cell_type": "markdown",
   "id": "0fbbee16",
   "metadata": {},
   "source": [
    "##### 4) Loops on Strings\n",
    "\n",
    "* **for loop**"
   ]
  },
  {
   "cell_type": "code",
   "execution_count": 1,
   "id": "9e865f52",
   "metadata": {},
   "outputs": [
    {
     "name": "stdout",
     "output_type": "stream",
     "text": [
      "p\n",
      "y\n",
      "t\n",
      "h\n",
      "o\n",
      "n\n"
     ]
    }
   ],
   "source": [
    "t = 'python'\n",
    "\n",
    "for char in t:\n",
    "    print(char)"
   ]
  },
  {
   "cell_type": "code",
   "execution_count": 4,
   "id": "5b668048",
   "metadata": {},
   "outputs": [
    {
     "name": "stdout",
     "output_type": "stream",
     "text": [
      "python\n",
      "python\n",
      "python\n",
      "python\n",
      "python\n"
     ]
    }
   ],
   "source": [
    "for i in 'hello':\n",
    "    print('python')"
   ]
  },
  {
   "cell_type": "markdown",
   "id": "490c4d65",
   "metadata": {},
   "source": [
    "* **while loop**"
   ]
  },
  {
   "cell_type": "code",
   "execution_count": 6,
   "id": "afad06c2",
   "metadata": {},
   "outputs": [
    {
     "name": "stdout",
     "output_type": "stream",
     "text": [
      "P\n",
      "y\n",
      "t\n",
      "h\n",
      "o\n",
      "n\n"
     ]
    }
   ],
   "source": [
    "text = 'Python'\n",
    "i = 0\n",
    "\n",
    "while i < len(text):\n",
    "    print(text[i])\n",
    "    i += 1\n"
   ]
  },
  {
   "cell_type": "markdown",
   "id": "cf4afd57",
   "metadata": {},
   "source": [
    "##### 5) Membership Operations\n",
    "\n",
    "| Operation | Syntax           | Example              | Output |\n",
    "| --------- | ---------------- | -------------------- | ------ |\n",
    "| `in`      | `'sub' in str`   | `\"Kis\" in \"Kisan\"`   | `True` |\n",
    "| `not in`  | `'x' not in str` | `\"z\" not in \"Kisan\"` | `True` |\n",
    "\n"
   ]
  },
  {
   "cell_type": "code",
   "execution_count": 7,
   "id": "46b7784e",
   "metadata": {},
   "outputs": [
    {
     "data": {
      "text/plain": [
       "True"
      ]
     },
     "execution_count": 7,
     "metadata": {},
     "output_type": "execute_result"
    }
   ],
   "source": [
    "'P' in 'Pune'"
   ]
  },
  {
   "cell_type": "code",
   "execution_count": 8,
   "id": "f7b89b25",
   "metadata": {},
   "outputs": [
    {
     "data": {
      "text/plain": [
       "True"
      ]
     },
     "execution_count": 8,
     "metadata": {},
     "output_type": "execute_result"
    }
   ],
   "source": [
    "'A' not in 'Pune'"
   ]
  },
  {
   "cell_type": "markdown",
   "id": "8f78378c",
   "metadata": {},
   "source": [
    "### Common String Functions\n",
    "\n",
    "| Function       | Description                               | Example                                | Output               |\n",
    "| -------------- | ----------------------------------------- | -------------------------------------- | -------------------- |\n",
    "| `len()`        | Returns length of string                  | `len(\"Kisan\")`                         | `5`                  |\n",
    "| `lower()`      | Converts to lowercase                     | `\"Hello\".lower()`                      | `'hello'`            |\n",
    "| `upper()`      | Converts to uppercase                     | `\"hello\".upper()`                      | `'HELLO'`            |\n",
    "| `capitalize()` | Capitalizes first letter                  | `\"kisan\".capitalize()`                 | `'Kisan'`            |\n",
    "| `title()`      | Capitalizes first letter of each word     | `\"my name is kisan\".title()`           | `'My Name Is Kisan'` |\n",
    "| `strip()`      | Removes spaces from both ends             | `\"  Kisan  \".strip()`                  | `'Kisan'`            |\n",
    "| `lstrip()`     | Removes spaces from left                  | `\"  Kisan\".lstrip()`                   | `'Kisan'`            |\n",
    "| `rstrip()`     | Removes spaces from right                 | `\"Kisan  \".rstrip()`                   | `'Kisan'`            |\n",
    "| `find()`       | Finds index of first occurrence           | `\"Kisan\".find(\"a\")`                    | `3`                  |\n",
    "| `index()`      | Same as find, raises error if not found   | `\"Kisan\".index(\"s\")`                   | `2`                  |\n",
    "| `replace()`    | Replaces substring                        | `\"Hi Kisan\".replace(\"Kisan\", \"Yadav\")` | `'Hi Yadav'`         |\n",
    "| `count()`      | Counts occurrences                        | `\"banana\".count(\"a\")`                  | `3`                  |\n",
    "| `startswith()` | Checks if string starts with given value  | `\"Hello\".startswith(\"H\")`              | `True`               |\n",
    "| `endswith()`   | Checks if string ends with given value    | `\"Hello\".endswith(\"o\")`                | `True`               |\n",
    "| `split()`      | Splits string by space or given separator | `\"a,b,c\".split(\",\")`                   | `['a', 'b', 'c']`    |\n",
    "| `join()`       | Joins list of strings with separator      | `\".\".join(['a','b','c'])`              | `'a.b.c'`            |\n",
    "| `isalpha()`    | Checks all characters are alphabets       | `\"Kisan\".isalpha()`                    | `True`               |\n",
    "| `isdigit()`    | Checks all characters are digits          | `\"123\".isdigit()`                      | `True`               |\n",
    "| `isalnum()`    | Checks all characters are alphanumeric    | `\"abc123\".isalnum()`                   | `True`               |\n",
    "| `islower()`    | Checks if all characters are lowercase    | `\"hello\".islower()`                    | `True`               |\n",
    "| `isupper()`    | Checks if all characters are uppercase    | `\"HELLO\".isupper()`                    | `True`               |\n"
   ]
  },
  {
   "cell_type": "markdown",
   "id": "1e086eb7",
   "metadata": {},
   "source": [
    "**Note --> All string functions do not change the original string (strings are immutable in Python)**"
   ]
  },
  {
   "cell_type": "markdown",
   "id": "cf6127d7",
   "metadata": {},
   "source": [
    "* **len ( )**"
   ]
  },
  {
   "cell_type": "code",
   "execution_count": null,
   "id": "337504ea",
   "metadata": {},
   "outputs": [
    {
     "name": "stdout",
     "output_type": "stream",
     "text": [
      "6\n"
     ]
    }
   ],
   "source": [
    "st = 'python'\n",
    "\n",
    "print(len(st))"
   ]
  },
  {
   "cell_type": "code",
   "execution_count": null,
   "id": "a053d91f",
   "metadata": {},
   "outputs": [
    {
     "name": "stdout",
     "output_type": "stream",
     "text": [
      "12\n"
     ]
    }
   ],
   "source": [
    "st = 'hello python'\n",
    "\n",
    "print(len(st))  # it count space as 1 char ( here are 11 char but len is 12)"
   ]
  },
  {
   "cell_type": "markdown",
   "id": "f60d9aff",
   "metadata": {},
   "source": [
    "* **lower( )**"
   ]
  },
  {
   "cell_type": "code",
   "execution_count": null,
   "id": "a42dcd97",
   "metadata": {},
   "outputs": [
    {
     "data": {
      "text/plain": [
       "'python'"
      ]
     },
     "execution_count": 13,
     "metadata": {},
     "output_type": "execute_result"
    }
   ],
   "source": [
    "'Hello'.lower()"
   ]
  },
  {
   "cell_type": "code",
   "execution_count": 15,
   "id": "baee7e88",
   "metadata": {},
   "outputs": [
    {
     "data": {
      "text/plain": [
       "'python'"
      ]
     },
     "execution_count": 15,
     "metadata": {},
     "output_type": "execute_result"
    }
   ],
   "source": [
    "'PYTHON'.lower()"
   ]
  },
  {
   "cell_type": "markdown",
   "id": "8d6955fe",
   "metadata": {},
   "source": [
    "* **islower( )**"
   ]
  },
  {
   "cell_type": "code",
   "execution_count": 16,
   "id": "0ec35709",
   "metadata": {},
   "outputs": [
    {
     "data": {
      "text/plain": [
       "True"
      ]
     },
     "execution_count": 16,
     "metadata": {},
     "output_type": "execute_result"
    }
   ],
   "source": [
    "'hello'.islower()"
   ]
  },
  {
   "cell_type": "code",
   "execution_count": 17,
   "id": "c6b54d8b",
   "metadata": {},
   "outputs": [
    {
     "data": {
      "text/plain": [
       "False"
      ]
     },
     "execution_count": 17,
     "metadata": {},
     "output_type": "execute_result"
    }
   ],
   "source": [
    "'Hello'.islower()"
   ]
  },
  {
   "cell_type": "markdown",
   "id": "61aec848",
   "metadata": {},
   "source": [
    "* **upper( )**"
   ]
  },
  {
   "cell_type": "code",
   "execution_count": null,
   "id": "665c8648",
   "metadata": {},
   "outputs": [
    {
     "data": {
      "text/plain": [
       "'HELLO'"
      ]
     },
     "execution_count": 14,
     "metadata": {},
     "output_type": "execute_result"
    }
   ],
   "source": [
    "'hello'.upper()"
   ]
  },
  {
   "cell_type": "markdown",
   "id": "8b474ddb",
   "metadata": {},
   "source": [
    "* **isupper( )**"
   ]
  },
  {
   "cell_type": "code",
   "execution_count": 18,
   "id": "05ec8b1a",
   "metadata": {},
   "outputs": [
    {
     "data": {
      "text/plain": [
       "True"
      ]
     },
     "execution_count": 18,
     "metadata": {},
     "output_type": "execute_result"
    }
   ],
   "source": [
    "'HELLO'.isupper()"
   ]
  },
  {
   "cell_type": "code",
   "execution_count": 19,
   "id": "2b55951f",
   "metadata": {},
   "outputs": [
    {
     "data": {
      "text/plain": [
       "False"
      ]
     },
     "execution_count": 19,
     "metadata": {},
     "output_type": "execute_result"
    }
   ],
   "source": [
    "'Hello'.isupper()"
   ]
  },
  {
   "cell_type": "markdown",
   "id": "4ea7be72",
   "metadata": {},
   "source": [
    "* **capitalize( )**"
   ]
  },
  {
   "cell_type": "code",
   "execution_count": 20,
   "id": "25580519",
   "metadata": {},
   "outputs": [
    {
     "data": {
      "text/plain": [
       "'Python'"
      ]
     },
     "execution_count": 20,
     "metadata": {},
     "output_type": "execute_result"
    }
   ],
   "source": [
    "'python'.capitalize()"
   ]
  },
  {
   "cell_type": "markdown",
   "id": "3764fb55",
   "metadata": {},
   "source": [
    "* **title( )**"
   ]
  },
  {
   "cell_type": "code",
   "execution_count": 21,
   "id": "1c7a6f82",
   "metadata": {},
   "outputs": [
    {
     "data": {
      "text/plain": [
       "'My Name Is Python'"
      ]
     },
     "execution_count": 21,
     "metadata": {},
     "output_type": "execute_result"
    }
   ],
   "source": [
    "n = 'my name is python'\n",
    "\n",
    "n.title()"
   ]
  },
  {
   "cell_type": "markdown",
   "id": "aaaae597",
   "metadata": {},
   "source": [
    "* **strip( )**"
   ]
  },
  {
   "cell_type": "code",
   "execution_count": 22,
   "id": "8e4c01d0",
   "metadata": {},
   "outputs": [
    {
     "data": {
      "text/plain": [
       "'Python'"
      ]
     },
     "execution_count": 22,
     "metadata": {},
     "output_type": "execute_result"
    }
   ],
   "source": [
    "' Python '.strip()"
   ]
  },
  {
   "cell_type": "markdown",
   "id": "d9b0c5a5",
   "metadata": {},
   "source": [
    "* **lstrip( )**"
   ]
  },
  {
   "cell_type": "code",
   "execution_count": 23,
   "id": "07992888",
   "metadata": {},
   "outputs": [
    {
     "data": {
      "text/plain": [
       "'Python'"
      ]
     },
     "execution_count": 23,
     "metadata": {},
     "output_type": "execute_result"
    }
   ],
   "source": [
    "' Python'.lstrip()"
   ]
  },
  {
   "cell_type": "markdown",
   "id": "c93e7727",
   "metadata": {},
   "source": [
    "* **rstrip( )**"
   ]
  },
  {
   "cell_type": "code",
   "execution_count": 24,
   "id": "b60da78e",
   "metadata": {},
   "outputs": [
    {
     "data": {
      "text/plain": [
       "'Python'"
      ]
     },
     "execution_count": 24,
     "metadata": {},
     "output_type": "execute_result"
    }
   ],
   "source": [
    "'Python '.rstrip()"
   ]
  },
  {
   "cell_type": "markdown",
   "id": "c0dfbfaf",
   "metadata": {},
   "source": [
    "* **find( )**"
   ]
  },
  {
   "cell_type": "code",
   "execution_count": 34,
   "id": "12ea9f6b",
   "metadata": {},
   "outputs": [
    {
     "data": {
      "text/plain": [
       "1"
      ]
     },
     "execution_count": 34,
     "metadata": {},
     "output_type": "execute_result"
    }
   ],
   "source": [
    "'World'.find('o')"
   ]
  },
  {
   "cell_type": "markdown",
   "id": "74775c9c",
   "metadata": {},
   "source": [
    "* **index( )**"
   ]
  },
  {
   "cell_type": "code",
   "execution_count": 29,
   "id": "139dd791",
   "metadata": {},
   "outputs": [
    {
     "data": {
      "text/plain": [
       "6"
      ]
     },
     "execution_count": 29,
     "metadata": {},
     "output_type": "execute_result"
    }
   ],
   "source": [
    "'Program'.index('m')"
   ]
  },
  {
   "cell_type": "markdown",
   "id": "d8f877f5",
   "metadata": {},
   "source": [
    "* **replace( )**"
   ]
  },
  {
   "cell_type": "code",
   "execution_count": 35,
   "id": "d4491ebc",
   "metadata": {},
   "outputs": [
    {
     "data": {
      "text/plain": [
       "'python programming'"
      ]
     },
     "execution_count": 35,
     "metadata": {},
     "output_type": "execute_result"
    }
   ],
   "source": [
    "'python program'.replace('program','programming')"
   ]
  },
  {
   "cell_type": "code",
   "execution_count": 5,
   "id": "b8297d0f",
   "metadata": {},
   "outputs": [
    {
     "data": {
      "text/plain": [
       "['a', 'e', 'l', 'p', 'p']"
      ]
     },
     "execution_count": 5,
     "metadata": {},
     "output_type": "execute_result"
    }
   ],
   "source": [
    "a ='apple'\n",
    "sorted(a)"
   ]
  },
  {
   "cell_type": "code",
   "execution_count": 4,
   "id": "3b9b90f3",
   "metadata": {},
   "outputs": [
    {
     "data": {
      "text/plain": [
       "['p', 'p', 'l', 'e', 'a']"
      ]
     },
     "execution_count": 4,
     "metadata": {},
     "output_type": "execute_result"
    }
   ],
   "source": [
    "sorted(a,reverse=True)"
   ]
  },
  {
   "cell_type": "code",
   "execution_count": null,
   "id": "93257b52",
   "metadata": {},
   "outputs": [],
   "source": [
    "# You can explore other functions given in table "
   ]
  }
 ],
 "metadata": {
  "kernelspec": {
   "display_name": "MlWorld",
   "language": "python",
   "name": "python3"
  },
  "language_info": {
   "codemirror_mode": {
    "name": "ipython",
    "version": 3
   },
   "file_extension": ".py",
   "mimetype": "text/x-python",
   "name": "python",
   "nbconvert_exporter": "python",
   "pygments_lexer": "ipython3",
   "version": "3.10.18"
  }
 },
 "nbformat": 4,
 "nbformat_minor": 5
}
